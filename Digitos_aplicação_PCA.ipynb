{
  "nbformat": 4,
  "nbformat_minor": 0,
  "metadata": {
    "colab": {
      "name": "Digitos_aplicação_PCA.ipynb",
      "provenance": [],
      "private_outputs": true,
      "authorship_tag": "ABX9TyO7GTQNJxgVEOaawppHyvvD",
      "include_colab_link": true
    },
    "kernelspec": {
      "name": "python3",
      "display_name": "Python 3"
    }
  },
  "cells": [
    {
      "cell_type": "markdown",
      "metadata": {
        "id": "view-in-github",
        "colab_type": "text"
      },
      "source": [
        "<a href=\"https://colab.research.google.com/github/ale-nunes/Data-Science-e-Machine-Learning/blob/master/Digitos_aplica%C3%A7%C3%A3o_PCA.ipynb\" target=\"_parent\"><img src=\"https://colab.research.google.com/assets/colab-badge.svg\" alt=\"Open In Colab\"/></a>"
      ]
    },
    {
      "cell_type": "code",
      "metadata": {
        "id": "judz_qRV02By",
        "colab_type": "code",
        "colab": {}
      },
      "source": [
        "import pandas as pd \n",
        "import numpy as np \n",
        "import matplotlib.pyplot as plt\n",
        "%matplotlib inline\n",
        "\n",
        "from sklearn.decomposition import PCA\n",
        "from sklearn.preprocessing import StandardScaler\n",
        "from sklearn import datasets "
      ],
      "execution_count": 0,
      "outputs": []
    },
    {
      "cell_type": "code",
      "metadata": {
        "id": "IehV_RKb07nc",
        "colab_type": "code",
        "colab": {}
      },
      "source": [
        "#carregando datasets\n",
        "digits =datasets.load_digits()\n",
        "digits"
      ],
      "execution_count": 0,
      "outputs": []
    },
    {
      "cell_type": "code",
      "metadata": {
        "id": "-X-J5Nhk07qN",
        "colab_type": "code",
        "colab": {}
      },
      "source": [
        "#carregando os dados e os targets nas variaveis\n",
        "X = digits['data']\n",
        "y = digits['target']"
      ],
      "execution_count": 0,
      "outputs": []
    },
    {
      "cell_type": "code",
      "metadata": {
        "id": "CoLsv_Zc07sl",
        "colab_type": "code",
        "colab": {}
      },
      "source": [
        "#tamanhao da matriz\n",
        "X.shape, y.shape"
      ],
      "execution_count": 0,
      "outputs": []
    },
    {
      "cell_type": "code",
      "metadata": {
        "id": "THrm677N07ui",
        "colab_type": "code",
        "colab": {}
      },
      "source": [
        "#plotando gráfico 2D \n",
        "pca = PCA(n_components=2)\n",
        "X_reduzido = pca.fit_transform(X)\n",
        "print(f'Projetando {X.shape[1]} Dimensionamento em 2D: ')\n",
        "plt.figure(figsize=(12,10))\n",
        "plt.scatter(X_reduzido[:,0], X_reduzido[:,1], c=y, \n",
        "            edgecolors='black', \n",
        "            alpha=0.6, \n",
        "            s=80, \n",
        "            cmap=plt.cm.get_cmap('nipy_spectral'))\n",
        "plt.colorbar()"
      ],
      "execution_count": 0,
      "outputs": []
    },
    {
      "cell_type": "code",
      "metadata": {
        "id": "TZCZzJhB2go9",
        "colab_type": "code",
        "colab": {}
      },
      "source": [
        "#importando o TSNE\n",
        "from sklearn.manifold import TSNE\n",
        "tsne = TSNE(random_state=123)\n",
        "\n",
        "X_tsne = tsne.fit_transform(X)"
      ],
      "execution_count": 0,
      "outputs": []
    },
    {
      "cell_type": "code",
      "metadata": {
        "id": "LuHSlgSH2gsA",
        "colab_type": "code",
        "colab": {}
      },
      "source": [
        "X_tsne.shape"
      ],
      "execution_count": 0,
      "outputs": []
    },
    {
      "cell_type": "code",
      "metadata": {
        "id": "OodYKZYV2gv7",
        "colab_type": "code",
        "colab": {}
      },
      "source": [
        "#plotando os dados usando o TSNE\n",
        "plt.figure(figsize=(12,10))\n",
        "plt.scatter(X_tsne[:,0], X_tsne[:,1], c=y,\n",
        "            edgecolor='black', alpha=0.6,\n",
        "            s=80,cmap = plt.cm.get_cmap('nipy_spectral', 10))\n",
        "plt.colorbar\n",
        "plt.show()"
      ],
      "execution_count": 0,
      "outputs": []
    },
    {
      "cell_type": "code",
      "metadata": {
        "id": "6S3p8LXpBldj",
        "colab_type": "code",
        "colab": {}
      },
      "source": [
        "#PCA por percentual de integridade\n",
        "X.shape"
      ],
      "execution_count": 0,
      "outputs": []
    },
    {
      "cell_type": "code",
      "metadata": {
        "id": "7RDJJIkGElEy",
        "colab_type": "code",
        "colab": {}
      },
      "source": [
        "pca = PCA(0.90)\n",
        "pca.fit(X)"
      ],
      "execution_count": 0,
      "outputs": []
    },
    {
      "cell_type": "code",
      "metadata": {
        "id": "hcLQbGX4ElMY",
        "colab_type": "code",
        "colab": {}
      },
      "source": [
        "#21 features para ter 90% da integridade dos dados\n",
        "cp = pca.n_components_\n",
        "cp"
      ],
      "execution_count": 0,
      "outputs": []
    },
    {
      "cell_type": "code",
      "metadata": {
        "id": "oYN69sq5F8zr",
        "colab_type": "code",
        "colab": {}
      },
      "source": [
        "np.arange(1, cp+1)"
      ],
      "execution_count": 0,
      "outputs": []
    },
    {
      "cell_type": "code",
      "metadata": {
        "id": "u4ev4fY9ElJx",
        "colab_type": "code",
        "colab": {}
      },
      "source": [
        "plt.figure(figsize=(10,8))\n",
        "plt.bar(np.arange(1, cp+1),\n",
        "        pca.explained_variance_ratio_[:21],\n",
        "        color='lightskyblue')\n",
        "plt.xlabel('Principal Componente')\n",
        "plt.ylabel('Variação')\n",
        "plt.xticks(np.arange(1, cp+1))\n",
        "plt.show()"
      ],
      "execution_count": 0,
      "outputs": []
    },
    {
      "cell_type": "code",
      "metadata": {
        "id": "mRmIkWzwElHk",
        "colab_type": "code",
        "colab": {}
      },
      "source": [
        ""
      ],
      "execution_count": 0,
      "outputs": []
    },
    {
      "cell_type": "code",
      "metadata": {
        "id": "q4Sh6ZqzElCZ",
        "colab_type": "code",
        "colab": {}
      },
      "source": [
        ""
      ],
      "execution_count": 0,
      "outputs": []
    },
    {
      "cell_type": "code",
      "metadata": {
        "id": "0y7d1mz-2guW",
        "colab_type": "code",
        "colab": {}
      },
      "source": [
        ""
      ],
      "execution_count": 0,
      "outputs": []
    }
  ]
}