{
  "nbformat": 4,
  "nbformat_minor": 0,
  "metadata": {
    "colab": {
      "name": "PCA.ipynb",
      "provenance": [],
      "private_outputs": true,
      "authorship_tag": "ABX9TyNe2ElRngutDcF0QrytNW4X",
      "include_colab_link": true
    },
    "kernelspec": {
      "name": "python3",
      "display_name": "Python 3"
    }
  },
  "cells": [
    {
      "cell_type": "markdown",
      "metadata": {
        "id": "view-in-github",
        "colab_type": "text"
      },
      "source": [
        "<a href=\"https://colab.research.google.com/github/ale-nunes/Data-Science-e-Machine-Learning/blob/master/PCA.ipynb\" target=\"_parent\"><img src=\"https://colab.research.google.com/assets/colab-badge.svg\" alt=\"Open In Colab\"/></a>"
      ]
    },
    {
      "cell_type": "code",
      "metadata": {
        "id": "Oum7EO6jrVAF",
        "colab_type": "code",
        "colab": {}
      },
      "source": [
        "import pandas as pd \n",
        "import numpy as np \n",
        "import matplotlib.pyplot as plt\n",
        "%matplotlib inline\n",
        "\n",
        "from sklearn.decomposition import PCA\n",
        "from sklearn.preprocessing import StandardScaler\n",
        "from sklearn import datasets "
      ],
      "execution_count": 0,
      "outputs": []
    },
    {
      "cell_type": "code",
      "metadata": {
        "id": "A8wQy8mW0PKf",
        "colab_type": "code",
        "colab": {}
      },
      "source": [
        "#dataset iris\n",
        "iris = datasets.load_iris()"
      ],
      "execution_count": 0,
      "outputs": []
    },
    {
      "cell_type": "code",
      "metadata": {
        "id": "mbq6bOL40PNj",
        "colab_type": "code",
        "colab": {}
      },
      "source": [
        "#descrição dos dados \n",
        "print(iris['DESCR'])"
      ],
      "execution_count": 0,
      "outputs": []
    },
    {
      "cell_type": "code",
      "metadata": {
        "id": "WB85nGRgrXWx",
        "colab_type": "code",
        "colab": {}
      },
      "source": [
        "#carregando os dados e os targets nas variaveis\n",
        "X = iris['data']\n",
        "y = iris['target']"
      ],
      "execution_count": 0,
      "outputs": []
    },
    {
      "cell_type": "code",
      "metadata": {
        "id": "yWU0M_J4rXZC",
        "colab_type": "code",
        "colab": {}
      },
      "source": [
        "#tamanho da matriz\n",
        "X.shape, y.shape"
      ],
      "execution_count": 0,
      "outputs": []
    },
    {
      "cell_type": "code",
      "metadata": {
        "id": "uOZl3JYNrXbh",
        "colab_type": "code",
        "colab": {}
      },
      "source": [
        "#normalização dos dados\n",
        "X = StandardScaler().fit_transform(X)"
      ],
      "execution_count": 0,
      "outputs": []
    },
    {
      "cell_type": "code",
      "metadata": {
        "id": "jut0dr4zrXd3",
        "colab_type": "code",
        "colab": {}
      },
      "source": [
        "#dados mormalizados\n",
        "print(X)"
      ],
      "execution_count": 0,
      "outputs": []
    },
    {
      "cell_type": "code",
      "metadata": {
        "id": "rE4YN9Yz3Bsx",
        "colab_type": "code",
        "colab": {}
      },
      "source": [
        "#caracteristicas das plantas \n",
        "iris['feature_names']"
      ],
      "execution_count": 0,
      "outputs": []
    },
    {
      "cell_type": "code",
      "metadata": {
        "id": "qasL8M5z3Bvv",
        "colab_type": "code",
        "colab": {}
      },
      "source": [
        "#transformando os dados em dataframe do pandas \n",
        "df = pd.DataFrame(X, columns=iris['feature_names'])\n",
        "df.head()"
      ],
      "execution_count": 0,
      "outputs": []
    },
    {
      "cell_type": "code",
      "metadata": {
        "id": "23MAEUvO3ByT",
        "colab_type": "code",
        "colab": {}
      },
      "source": [
        "#implementando o PCA 2 dimensões\n",
        "pca = PCA(n_components=2)"
      ],
      "execution_count": 0,
      "outputs": []
    },
    {
      "cell_type": "code",
      "metadata": {
        "id": "iqPHIkqc3B0y",
        "colab_type": "code",
        "colab": {}
      },
      "source": [
        "#transformando os PCs\n",
        "pc = pca.fit_transform(X)"
      ],
      "execution_count": 0,
      "outputs": []
    },
    {
      "cell_type": "code",
      "metadata": {
        "id": "WoOXhpms3CGl",
        "colab_type": "code",
        "colab": {}
      },
      "source": [
        "#matriz com novo numero de dimensões\n",
        "pc.shape"
      ],
      "execution_count": 0,
      "outputs": []
    },
    {
      "cell_type": "code",
      "metadata": {
        "id": "mxI2u82o5z1D",
        "colab_type": "code",
        "colab": {}
      },
      "source": [
        "#pegando só as flores de valor 0 ou 1\n",
        "pc[y==0,0]"
      ],
      "execution_count": 0,
      "outputs": []
    },
    {
      "cell_type": "code",
      "metadata": {
        "id": "1RevtDbg5z4D",
        "colab_type": "code",
        "colab": {}
      },
      "source": [
        "#plotando o gráfico\n",
        "plt.scatter(pc[:,0], pc[0:,1])"
      ],
      "execution_count": 0,
      "outputs": []
    },
    {
      "cell_type": "code",
      "metadata": {
        "id": "oPngX_ag5z6S",
        "colab_type": "code",
        "colab": {}
      },
      "source": [
        "#plotando o gráfico mais detalhado\n",
        "plt.scatter(pc[y==0,0], pc[y==0,1], label='Setosa')\n",
        "plt.scatter(pc[y==1,0], pc[y==1,1], label='Versicolor')\n",
        "plt.scatter(pc[y==2,0], pc[y==2,1], label='Virginica')\n",
        "plt.xlabel('PC1')\n",
        "plt.ylabel('PC2')\n",
        "plt.legend()\n",
        "plt.show()"
      ],
      "execution_count": 0,
      "outputs": []
    },
    {
      "cell_type": "code",
      "metadata": {
        "id": "U0ydhzIU5z9U",
        "colab_type": "code",
        "colab": {}
      },
      "source": [
        "# representação em percentual dos dados originais\n",
        "p = pca.explained_variance_ratio_\n",
        "print(\"Principais Componentes de Analisis: \",p)"
      ],
      "execution_count": 0,
      "outputs": []
    },
    {
      "cell_type": "code",
      "metadata": {
        "id": "pa58DF_Y50GQ",
        "colab_type": "code",
        "colab": {}
      },
      "source": [
        "#total de representação dos dois maiores PCs\n",
        "sum(p)"
      ],
      "execution_count": 0,
      "outputs": []
    },
    {
      "cell_type": "code",
      "metadata": {
        "id": "pdNoK7de50I5",
        "colab_type": "code",
        "colab": {}
      },
      "source": [
        ""
      ],
      "execution_count": 0,
      "outputs": []
    }
  ]
}