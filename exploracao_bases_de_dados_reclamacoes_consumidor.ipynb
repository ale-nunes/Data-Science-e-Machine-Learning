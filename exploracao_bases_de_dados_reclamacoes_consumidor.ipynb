{
  "nbformat": 4,
  "nbformat_minor": 0,
  "metadata": {
    "colab": {
      "name": "exploracao_bases_de_dados_reclamacoes_consumidor.ipynb",
      "provenance": [],
      "private_outputs": true,
      "authorship_tag": "ABX9TyOq/EpHDiAl1JwkhK4vER6E",
      "include_colab_link": true
    },
    "kernelspec": {
      "name": "python3",
      "display_name": "Python 3"
    }
  },
  "cells": [
    {
      "cell_type": "markdown",
      "metadata": {
        "id": "view-in-github",
        "colab_type": "text"
      },
      "source": [
        "<a href=\"https://colab.research.google.com/github/ale-nunes/Data-Science-e-Machine-Learning/blob/master/exploracao_bases_de_dados_reclamacoes_consumidor.ipynb\" target=\"_parent\"><img src=\"https://colab.research.google.com/assets/colab-badge.svg\" alt=\"Open In Colab\"/></a>"
      ]
    },
    {
      "cell_type": "markdown",
      "metadata": {
        "id": "lk9IV6wVdia6",
        "colab_type": "text"
      },
      "source": [
        "link tutorial: https://minerandodados.com.br/analise-exploratoria-de-dados-passo-a-passo-com-python/ \n"
      ]
    },
    {
      "cell_type": "code",
      "metadata": {
        "id": "nVyya01iP6HX",
        "colab_type": "code",
        "colab": {}
      },
      "source": [
        "#biblioteca para trabalhar com mapas\n",
        "!pip install folium"
      ],
      "execution_count": 0,
      "outputs": []
    },
    {
      "cell_type": "code",
      "metadata": {
        "id": "7IPuniuxP2LV",
        "colab_type": "code",
        "colab": {}
      },
      "source": [
        "#carregando as bibliotecas necessárias\n",
        "import pandas as pd\n",
        "%matplotlib inline\n",
        "%pylab inline\n",
        "import matplotlib.pyplot as plt\n",
        "import seaborn as sns\n",
        "plt.style.use('ggplot')"
      ],
      "execution_count": 0,
      "outputs": []
    },
    {
      "cell_type": "code",
      "metadata": {
        "id": "KL8a05JcP6Eg",
        "colab_type": "code",
        "colab": {}
      },
      "source": [
        "  #upload do arquivo da minha maquina para o colab\n",
        "\n",
        "from google.colab import files\n",
        "\n",
        "uploaded = files.upload()\n",
        "\n",
        "for fn in uploaded.keys():\n",
        "  print('User uploaded file \"dadosgovbr---2016\" with length {length} bytes'.format(\n",
        "      name=fn, length=len(uploaded[fn])))"
      ],
      "execution_count": 0,
      "outputs": []
    },
    {
      "cell_type": "code",
      "metadata": {
        "id": "dKdNJdOuP6Jq",
        "colab_type": "code",
        "colab": {}
      },
      "source": [
        "#lendo e guardando os dados na variavel df\n",
        "df = pd.read_csv(\"dadosgovbr---2016.csv.crdownload\", sep=';', encoding='latin1')"
      ],
      "execution_count": 0,
      "outputs": []
    },
    {
      "cell_type": "code",
      "metadata": {
        "id": "EjZp5nN9QzOh",
        "colab_type": "code",
        "colab": {}
      },
      "source": [
        "#vizualizando os dados\n",
        "df.head(5).T"
      ],
      "execution_count": 0,
      "outputs": []
    },
    {
      "cell_type": "code",
      "metadata": {
        "id": "By8gqbvTQzRh",
        "colab_type": "code",
        "colab": {}
      },
      "source": [
        "#quantidade de reclamações por estado\n",
        "df.groupby('UF')['UF'].count()"
      ],
      "execution_count": 0,
      "outputs": []
    },
    {
      "cell_type": "code",
      "metadata": {
        "id": "pvfhU3RgR1F8",
        "colab_type": "code",
        "colab": {}
      },
      "source": [
        "#quantidade de reclamação por sexo\n",
        "df[u'Sexo'].value_counts()"
      ],
      "execution_count": 0,
      "outputs": []
    },
    {
      "cell_type": "code",
      "metadata": {
        "id": "b6YJoGmBR1Ic",
        "colab_type": "code",
        "colab": {}
      },
      "source": [
        "#vizualização de forma gráfica\n",
        "sns.set(style=\"darkgrid\")\n",
        "sexo = df[u'Sexo'].unique()\n",
        "cont = df[u'Sexo'].value_counts()\n",
        "sns.barplot(x=sexo, y=cont)"
      ],
      "execution_count": 0,
      "outputs": []
    },
    {
      "cell_type": "code",
      "metadata": {
        "id": "fKt0mUY_P6Mg",
        "colab_type": "code",
        "colab": {}
      },
      "source": [
        "#Faixa etária de consumidores por sexo\n",
        "df.groupby('Sexo')[u'Faixa Etária'].value_counts()"
      ],
      "execution_count": 0,
      "outputs": []
    },
    {
      "cell_type": "code",
      "metadata": {
        "id": "0rDyZ-kyUUA7",
        "colab_type": "code",
        "colab": {}
      },
      "source": [
        "#contrato pela internet por faixa etária\n",
        "df2 = df[df['Como Comprou Contratou']=='Internet']\n",
        "df2.groupby(u'Faixa Etária')['Como Comprou Contratou'].value_counts().plot.barh()"
      ],
      "execution_count": 0,
      "outputs": []
    },
    {
      "cell_type": "code",
      "metadata": {
        "id": "5-CD2FBLUow4",
        "colab_type": "code",
        "colab": {}
      },
      "source": [
        "#procurou a empresa antes de fazer a reclamação\n",
        "df2 = df[df[u'Faixa Etária']=='entre 21 a 30 anos']\n",
        "df['Procurou Empresa'].value_counts().plot.barh()"
      ],
      "execution_count": 0,
      "outputs": []
    },
    {
      "cell_type": "code",
      "metadata": {
        "id": "k5vr3O8jUozx",
        "colab_type": "code",
        "colab": {}
      },
      "source": [
        "#qual o grupo de problema mais comum\n",
        "df['Grupo Problema'].value_counts()"
      ],
      "execution_count": 0,
      "outputs": []
    },
    {
      "cell_type": "code",
      "metadata": {
        "id": "mzyQbmQmUo5u",
        "colab_type": "code",
        "colab": {}
      },
      "source": [
        "#problemas mais relacionados ao grupo de cobrança e contestação\n",
        "df[df['Grupo Problema']== u'Cobrança / Contestação'][u'Problema'].value_counts()"
      ],
      "execution_count": 0,
      "outputs": []
    },
    {
      "cell_type": "code",
      "metadata": {
        "id": "JBKSsTwXUo-L",
        "colab_type": "code",
        "colab": {}
      },
      "source": [
        "#quantidade de reclamações por segmento de mercado\n",
        "df[u'Segmento de Mercado'].value_counts()"
      ],
      "execution_count": 0,
      "outputs": []
    },
    {
      "cell_type": "code",
      "metadata": {
        "id": "qX4IItHaUo28",
        "colab_type": "code",
        "colab": {}
      },
      "source": [
        "#vizualização de gráficos das reclamações\n",
        "plt.style.use('ggplot')\n",
        "plt.rcdefaults()\n",
        "fig, ax = plt.subplots()\n",
        "\n",
        "#guardando os dados em variaveis\n",
        "y_pos = np.arange(len(df['Segmento de Mercado'].value_counts()))\n",
        "values = df['Segmento de Mercado'].value_counts()\n",
        "segmentos = df['Segmento de Mercado'].unique()\n",
        "\n",
        "#montando o gráfico\n",
        "ax.barh(y_pos, values, align='center', color='black')\n",
        "ax.set_yticks(y_pos)\n",
        "ax.set_yticklabels(segmentos)\n",
        "ax.invert_yaxis()\n",
        "ax.set_xlabel('Reclamacoes')\n",
        "ax.set_title('Reclamações por Segmento de Mercado')\n",
        "\n",
        "#plotando o gráfico\n",
        "plt.show()"
      ],
      "execution_count": 0,
      "outputs": []
    },
    {
      "cell_type": "code",
      "metadata": {
        "id": "oG3scpk_UUI1",
        "colab_type": "code",
        "colab": {}
      },
      "source": [
        "#As 20 Empresas com mais reclamações\n",
        "\n",
        "fig, ax = plt.subplots()\n",
        "\n",
        "y_pos = np.arange(len(df['Nome Fantasia'].value_counts()[:20]))\n",
        "values = df['Nome Fantasia'].value_counts()[:20]\n",
        "segmentos = df['Nome Fantasia'].unique()[:20]\n",
        "\n",
        "ax.barh(y_pos, values, align='center', color='black')\n",
        "ax.set_yticks(y_pos)\n",
        "ax.set_yticklabels(segmentos)\n",
        "ax.invert_yaxis()\n",
        "ax.set_xlabel('Reclamacoes')\n",
        "ax.set_title('Rank de Empresas')\n",
        "\n",
        "plt.show()"
      ],
      "execution_count": 0,
      "outputs": []
    },
    {
      "cell_type": "code",
      "metadata": {
        "id": "mXGqraIFdrTV",
        "colab_type": "code",
        "colab": {}
      },
      "source": [
        "#Tempo de resposta tem alguma correlação com a nota do consumidor ?\n",
        "df = df.drop('Total', axis=1)\n",
        "corr = df.corr()\n",
        "corr.style.background_gradient(cmap='coolwarm')"
      ],
      "execution_count": 0,
      "outputs": []
    },
    {
      "cell_type": "code",
      "metadata": {
        "id": "giphfpghdrYd",
        "colab_type": "code",
        "colab": {}
      },
      "source": [
        "#Avaliando as notas do consumidor\n",
        "df.plot.density(y='Nota do Consumidor', xlim=[0,6], figsize=[8,4])"
      ],
      "execution_count": 0,
      "outputs": []
    },
    {
      "cell_type": "code",
      "metadata": {
        "id": "LpQcLNFtdrQq",
        "colab_type": "code",
        "colab": {}
      },
      "source": [
        "#Quantos de dias que a empresa leva pra atender as reclamações\n",
        "df.plot.density(y='Tempo Resposta', xlim=[0,11], figsize=[8,4])  "
      ],
      "execution_count": 0,
      "outputs": []
    },
    {
      "cell_type": "code",
      "metadata": {
        "id": "HLAVxtGvUUGa",
        "colab_type": "code",
        "colab": {}
      },
      "source": [
        "#Proporção de reclamações registradas e não atendidas por segmento de mercado\n",
        "x = df.groupby(u'Segmento de Mercado')[u'Segmento de Mercado'].count()\n",
        "\n",
        "#Filtrando os segmentos de mercado com mais de 20 reclamações\n",
        "x = x[x > 20]\n",
        "\n",
        "df = df[df[u'Segmento de Mercado'].isin(x.keys())]\n",
        "df = df[df[u'Avaliação Reclamação']==u'Não Resolvida']\n",
        "x1 = df.groupby(u'Segmento de Mercado')[u'Segmento de Mercado'].count()\n",
        "x1"
      ],
      "execution_count": 0,
      "outputs": []
    },
    {
      "cell_type": "code",
      "metadata": {
        "id": "LtrsyZfQUUEJ",
        "colab_type": "code",
        "colab": {}
      },
      "source": [
        "# Gráfico:\n",
        "sns.set(style=\"whitegrid\")\n",
        "\n",
        "f, ax = plt.subplots(figsize=(8, 10))\n",
        "\n",
        "sns.set_color_codes(\"pastel\")\n",
        "sns.barplot(x=x.values, y=x.keys(), label=\"Total de reclamacoes\", color=\"b\")\n",
        "\n",
        "sns.set_color_codes(\"muted\")\n",
        "sns.barplot(x=x1.values, y=x1.keys(),label=\"Reclamacoes nao resolvidas\", color=\"r\")\n",
        "\n",
        "ax.legend(ncol=2, loc=\"lower right\", frameon=True)\n",
        "ax.set(ylabel=\"\", xlabel=\"Reclamacoes e suas situacoes\")\n",
        "sns.despine(left=False, bottom=True)"
      ],
      "execution_count": 0,
      "outputs": []
    },
    {
      "cell_type": "markdown",
      "metadata": {
        "id": "TcA2-t3WnCos",
        "colab_type": "text"
      },
      "source": [
        "link dados estados: https://community.qlik.com/t5/Qlik-Brasil/Municipios-do-Brasil-com-Latitude-e-Longitude/gpm-p/1480217\n",
        "\n"
      ]
    },
    {
      "cell_type": "code",
      "metadata": {
        "id": "2Wgh5Z3-P6Q1",
        "colab_type": "code",
        "colab": {}
      },
      "source": [
        "\n",
        " #upload do arquivo da minha maquina para o colab\n",
        "\n",
        "from google.colab import files\n",
        "\n",
        "uploaded = files.upload()\n",
        "\n",
        "for fn in uploaded.keys():\n",
        "  print('User uploaded file \"MunicipiosBrasil\" with length {length} bytes'.format(\n",
        "      name=fn, length=len(uploaded[fn])))"
      ],
      "execution_count": 0,
      "outputs": []
    },
    {
      "cell_type": "code",
      "metadata": {
        "id": "8lom0wdairYD",
        "colab_type": "code",
        "colab": {}
      },
      "source": [
        "#Analise de Reclamação por região\n",
        "municipios = pd.read_excel('MunicipiosBrasil.xls', encoding='latin1')\n",
        "municipios.head()"
      ],
      "execution_count": 0,
      "outputs": []
    },
    {
      "cell_type": "code",
      "metadata": {
        "id": "irxj1uCJozRl",
        "colab_type": "code",
        "colab": {}
      },
      "source": [
        "import unicodedata\n",
        "import re\n",
        "def remover_acentos(txt):\n",
        "    nfkd = unicodedata.normalize('NFKD', txt)\n",
        "    palavraSemAcento = u\"\".join([c for c in nfkd if not unicodedata.combining(c)])\n",
        "\n",
        "    # Usa expressão regular para retornar a palavra apenas com números, letras e espaço\n",
        "    palavraSemAcento = re.sub('[^a-zA-Z0-9 \\\\\\]', '', palavraSemAcento)\n",
        "    palavraSemAcento = str(palavraSemAcento).upper()\n",
        "    return palavraSemAcento\n",
        "\n",
        "df['Cidade2'] = df['Cidade'].apply(remover_acentos)"
      ],
      "execution_count": 0,
      "outputs": []
    },
    {
      "cell_type": "code",
      "metadata": {
        "id": "U7DBYio2ozYh",
        "colab_type": "code",
        "colab": {}
      },
      "source": [
        "#from folium import plugins\n",
        "import folium\n",
        "from folium import plugins\n",
        "from IPython.display import display\n",
        "\n",
        "# Especificando a localização, o valor de zoom e o tipo do mapa:\n",
        "mapa = folium.Map(location=[-15.788497,-47.879873],zoom_start=0.5,tiles='Stamen Toner')\n",
        "coordenadas=[]\n",
        "\n",
        "# Limitando o número de registros para não travar a máquina:\n",
        "for cid,uf in zip(df.Cidade2[:20000],df.UF[:20000]):\n",
        "    cidadeUf = cid+' - '+uf\n",
        "\n",
        "# Pegando os valores de longitude e latitude das duas bases:\n",
        "    lat = municipios[municipios['Mun/UF'] == cidadeUf]['LATITUDE'].values\n",
        "    long = municipios[municipios['Mun/UF'] == cidadeUf]['LONGITUDE'].values\n",
        "    coordenadas.append([lat,long])\n",
        "    #if lat != '' and long != '':\n",
        "  \n",
        "# Tratando os valores de lat e log:\n",
        "      #lat = float(str(lat).replace('[','').replace(']','').replace(' ',','))\n",
        "      #long = float(str(long).replace('[','').replace(']','').replace(' ',','))\n",
        "      #coordenadas.append([lat,long])\n",
        "     \n",
        "# Alimentando o mapa com as coordenadas fornecidas pelo código anterior:\n",
        "mapa.add_child(plugins.HeatMap(coordenadas))        \n",
        "mapa"
      ],
      "execution_count": 0,
      "outputs": []
    },
    {
      "cell_type": "code",
      "metadata": {
        "id": "sL3c-z0p8afp",
        "colab_type": "code",
        "colab": {}
      },
      "source": [
        "a = mapa.save('mapa-consumidor.html')\n"
      ],
      "execution_count": 0,
      "outputs": []
    },
    {
      "cell_type": "code",
      "metadata": {
        "id": "N2WriRLQ8adi",
        "colab_type": "code",
        "colab": {}
      },
      "source": [
        "#quais os serviços que possuem o maior numeros de reclamações dentro das instituição financeira\n",
        "# Filtrando por segmento de mercado:\n",
        "\n",
        "df = df[df['Segmento de Mercado']==u'Bancos, Financeiras e Administradoras de Cartão']\n",
        "df = df[df[u'Área']==u'Serviços Financeiros']\n",
        "\n",
        "# Gráfico:\n",
        "fig, ax = plt.subplots(figsize=(14,10))\n",
        "df.groupby('Assunto')['Assunto'].value_counts().unstack().plot.area(ax=ax)"
      ],
      "execution_count": 0,
      "outputs": []
    },
    {
      "cell_type": "code",
      "metadata": {
        "id": "ZNzVbSMk8aaq",
        "colab_type": "code",
        "colab": {}
      },
      "source": [
        ""
      ],
      "execution_count": 0,
      "outputs": []
    },
    {
      "cell_type": "code",
      "metadata": {
        "id": "hZ9GgiUr8aYM",
        "colab_type": "code",
        "colab": {}
      },
      "source": [
        ""
      ],
      "execution_count": 0,
      "outputs": []
    }
  ]
}