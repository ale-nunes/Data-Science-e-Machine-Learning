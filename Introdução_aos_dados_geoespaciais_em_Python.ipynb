{
  "nbformat": 4,
  "nbformat_minor": 0,
  "metadata": {
    "colab": {
      "name": "Introdução aos dados geoespaciais em Python.ipynb",
      "provenance": [],
      "collapsed_sections": [],
      "include_colab_link": true
    },
    "kernelspec": {
      "name": "python3",
      "display_name": "Python 3"
    }
  },
  "cells": [
    {
      "cell_type": "markdown",
      "metadata": {
        "id": "view-in-github",
        "colab_type": "text"
      },
      "source": [
        "<a href=\"https://colab.research.google.com/github/ale-nunes/Data-Science-e-Machine-Learning/blob/master/Introdu%C3%A7%C3%A3o_aos_dados_geoespaciais_em_Python.ipynb\" target=\"_parent\"><img src=\"https://colab.research.google.com/assets/colab-badge.svg\" alt=\"Open In Colab\"/></a>"
      ]
    },
    {
      "cell_type": "code",
      "metadata": {
        "id": "fpc-GYlDAj8n",
        "colab_type": "code",
        "colab": {}
      },
      "source": [
        "#Neste tutorial, você usará dados geoespaciais para traçar o caminho do furacão Florença de 30 de agosto a 18 de setembro.\n",
        "\n",
        "#Dados espaciais, dados geoespaciais, dados GIS ou geodados, são nomes de dados numéricos que identificam a localização geográfica de um objeto físico, \n",
        "#como um prédio, uma rua, uma cidade, uma cidade, um país etc., de acordo com um sistema de coordenadas geográficas."
      ],
      "execution_count": 0,
      "outputs": []
    },
    {
      "cell_type": "code",
      "metadata": {
        "id": "K7Wx3u4SAnI_",
        "colab_type": "code",
        "colab": {}
      },
      "source": [
        "#Pandas : fornecem estruturas de dados e ferramentas de análise de dados\n",
        "#Numpy : um pacote fundamental para computação científica com Python\n",
        "#SciPy : (pronuncia-se “Sigh Pie”) é um ecossistema baseado em Python de software de código aberto para matemática, ciências e engenharia.\n",
        "#RTree : um wrapper Python ctypes de libspatialindex que fornece vários recursos avançados de indexação espacial\n",
        "#GDAL : biblioteca de tradutores para formatos de dados geoespaciais raster e vetoriais\n",
        "#Fiona : Fiona lê e grava arquivos de dados espaciais\n",
        "#Shapely : Objetos geométricos, predicados e operações\n",
        "#GeoPandas : estende os tipos de dados usados pelos pandas para permitir operações espaciais em tipos geométricos.\n",
        "#PySAL : uma biblioteca de funções de análise espacial escrita em Python, destinada a suportar o desenvolvimento de aplicações de alto nível.\n",
        "#Matplotlib : biblioteca de plotagem 2D em Python\n",
        "#Missingno : Módulo de visualização de dados ausente para Python"
      ],
      "execution_count": 0,
      "outputs": []
    },
    {
      "cell_type": "code",
      "metadata": {
        "id": "SziozCNYAnGC",
        "colab_type": "code",
        "colab": {}
      },
      "source": [
        "# required libraries\n",
        "\n",
        "\"\"\" \n",
        "!pip install pandas\n",
        "!pip install numpy\n",
        "!pip install scipy\n",
        "!pip install rtree\n",
        "!pip install gdal\n",
        "!pip install fiona\n",
        "!pip install shapely\n",
        "!pip install geopandas\n",
        "!pip install pysal\n",
        "!pip install matplotlib\n",
        "!pip install missingno\n",
        "\n",
        "\"\"\"\""
      ],
      "execution_count": 0,
      "outputs": []
    },
    {
      "cell_type": "code",
      "metadata": {
        "id": "WB9ImRS7AnCt",
        "colab_type": "code",
        "colab": {}
      },
      "source": [
        ""
      ],
      "execution_count": 0,
      "outputs": []
    },
    {
      "cell_type": "code",
      "metadata": {
        "id": "y5AhIjOnAm_R",
        "colab_type": "code",
        "colab": {}
      },
      "source": [
        "#file configuration libspatialindex for use of geopandas"
      ],
      "execution_count": 0,
      "outputs": []
    },
    {
      "cell_type": "code",
      "metadata": {
        "id": "cmqfyySCLZ5Q",
        "colab_type": "code",
        "colab": {}
      },
      "source": [
        "!apt-get install -qq curl g++ make"
      ],
      "execution_count": 0,
      "outputs": []
    },
    {
      "cell_type": "code",
      "metadata": {
        "id": "xg_R-pTILZ04",
        "colab_type": "code",
        "outputId": "809f32c4-de59-4322-cb34-8804f09625b0",
        "colab": {
          "base_uri": "https://localhost:8080/",
          "height": 68
        }
      },
      "source": [
        "!curl -L http://download.osgeo.org/libspatialindex/spatialindex-src-1.8.5.tar.gz | tar xz"
      ],
      "execution_count": 0,
      "outputs": [
        {
          "output_type": "stream",
          "text": [
            "  % Total    % Received % Xferd  Average Speed   Time    Time     Time  Current\n",
            "                                 Dload  Upload   Total   Spent    Left  Speed\n",
            "100  556k  100  556k    0     0   447k      0  0:00:01  0:00:01 --:--:--  447k\n"
          ],
          "name": "stdout"
        }
      ]
    },
    {
      "cell_type": "code",
      "metadata": {
        "id": "8BiuaPSkLZwB",
        "colab_type": "code",
        "colab": {}
      },
      "source": [
        "import os\n",
        "os.chdir('spatialindex-src-1.8.5')"
      ],
      "execution_count": 0,
      "outputs": []
    },
    {
      "cell_type": "code",
      "metadata": {
        "id": "8LmSqZ1EAm8M",
        "colab_type": "code",
        "colab": {}
      },
      "source": [
        "!./configure"
      ],
      "execution_count": 0,
      "outputs": []
    },
    {
      "cell_type": "code",
      "metadata": {
        "id": "EXf5wuErAm5G",
        "colab_type": "code",
        "colab": {}
      },
      "source": [
        "!make"
      ],
      "execution_count": 0,
      "outputs": []
    },
    {
      "cell_type": "code",
      "metadata": {
        "id": "1rIjnCf4Am1c",
        "colab_type": "code",
        "colab": {}
      },
      "source": [
        "!make install"
      ],
      "execution_count": 0,
      "outputs": []
    },
    {
      "cell_type": "code",
      "metadata": {
        "id": "HdgZxAbSMj-h",
        "colab_type": "code",
        "outputId": "a0dc82d0-7d82-4127-fa4c-2af39ca80c66",
        "colab": {
          "base_uri": "https://localhost:8080/",
          "height": 51
        }
      },
      "source": [
        "!pip install rtree"
      ],
      "execution_count": 0,
      "outputs": [
        {
          "output_type": "stream",
          "text": [
            "Requirement already satisfied: rtree in /usr/local/lib/python3.6/dist-packages (0.8.3)\n",
            "Requirement already satisfied: setuptools in /usr/local/lib/python3.6/dist-packages (from rtree) (40.8.0)\n"
          ],
          "name": "stdout"
        }
      ]
    },
    {
      "cell_type": "code",
      "metadata": {
        "id": "92nDWPZXMDGe",
        "colab_type": "code",
        "colab": {}
      },
      "source": [
        "!ldconfig"
      ],
      "execution_count": 0,
      "outputs": []
    },
    {
      "cell_type": "code",
      "metadata": {
        "id": "BGODzrFIMDPx",
        "colab_type": "code",
        "colab": {}
      },
      "source": [
        "# Load all importance packages\n",
        "import geopandas\n",
        "import numpy as np\n",
        "import pandas as pd\n",
        "from shapely.geometry import Point\n",
        "\n",
        "import missingno as msn\n",
        "\n",
        "import seaborn as sns\n",
        "import matplotlib.pyplot as plt\n",
        "\n",
        "% matplotlib inline"
      ],
      "execution_count": 0,
      "outputs": []
    },
    {
      "cell_type": "code",
      "metadata": {
        "id": "FdK0hJDeMDYd",
        "colab_type": "code",
        "outputId": "742396b0-6b34-495e-854c-c76fc1c2168a",
        "colab": {
          "resources": {
            "http://localhost:8080/nbextensions/google.colab/files.js": {
              "data": "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",
              "ok": true,
              "headers": [
                [
                  "content-type",
                  "application/javascript"
                ]
              ],
              "status": 200,
              "status_text": ""
            }
          },
          "base_uri": "https://localhost:8080/",
          "height": 91
        }
      },
      "source": [
        "#upload file for colab\n",
        "from google.colab import files\n",
        "\n",
        "uploaded = files.upload()\n",
        "\n",
        "for fn in uploaded.keys():\n",
        "  print('User uploaded file \"data_file\" with length {length} bytes'.format(\n",
        "      name=fn, length=len(uploaded[fn])))"
      ],
      "execution_count": 0,
      "outputs": [
        {
          "output_type": "display_data",
          "data": {
            "text/html": [
              "\n",
              "     <input type=\"file\" id=\"files-3a5cfa22-482b-42e3-8672-aaf8e23025c7\" name=\"files[]\" multiple disabled />\n",
              "     <output id=\"result-3a5cfa22-482b-42e3-8672-aaf8e23025c7\">\n",
              "      Upload widget is only available when the cell has been executed in the\n",
              "      current browser session. Please rerun this cell to enable.\n",
              "      </output>\n",
              "      <script src=\"/nbextensions/google.colab/files.js\"></script> "
            ],
            "text/plain": [
              "<IPython.core.display.HTML object>"
            ]
          },
          "metadata": {
            "tags": []
          }
        },
        {
          "output_type": "stream",
          "text": [
            "Saving data_file.json to data_file (1).json\n",
            "User uploaded file \"data_file\" with length 2552566 bytes\n"
          ],
          "name": "stdout"
        }
      ]
    },
    {
      "cell_type": "code",
      "metadata": {
        "id": "FgqPc_VTMDjA",
        "colab_type": "code",
        "outputId": "abf30c3e-e9d2-4942-96a5-fbfb853ec110",
        "colab": {
          "base_uri": "https://localhost:8080/",
          "height": 204
        }
      },
      "source": [
        "country = geopandas.read_file(\"data_file.json\")\n",
        "country.head()"
      ],
      "execution_count": 0,
      "outputs": [
        {
          "output_type": "execute_result",
          "data": {
            "text/html": [
              "<div>\n",
              "<style scoped>\n",
              "    .dataframe tbody tr th:only-of-type {\n",
              "        vertical-align: middle;\n",
              "    }\n",
              "\n",
              "    .dataframe tbody tr th {\n",
              "        vertical-align: top;\n",
              "    }\n",
              "\n",
              "    .dataframe thead th {\n",
              "        text-align: right;\n",
              "    }\n",
              "</style>\n",
              "<table border=\"1\" class=\"dataframe\">\n",
              "  <thead>\n",
              "    <tr style=\"text-align: right;\">\n",
              "      <th></th>\n",
              "      <th>GEO_ID</th>\n",
              "      <th>STATE</th>\n",
              "      <th>NAME</th>\n",
              "      <th>LSAD</th>\n",
              "      <th>CENSUSAREA</th>\n",
              "      <th>geometry</th>\n",
              "    </tr>\n",
              "  </thead>\n",
              "  <tbody>\n",
              "    <tr>\n",
              "      <th>0</th>\n",
              "      <td>0400000US01</td>\n",
              "      <td>01</td>\n",
              "      <td>Alabama</td>\n",
              "      <td></td>\n",
              "      <td>50645.326</td>\n",
              "      <td>(POLYGON ((-88.124658 30.28364, -88.0868119999...</td>\n",
              "    </tr>\n",
              "    <tr>\n",
              "      <th>1</th>\n",
              "      <td>0400000US02</td>\n",
              "      <td>02</td>\n",
              "      <td>Alaska</td>\n",
              "      <td></td>\n",
              "      <td>570640.950</td>\n",
              "      <td>(POLYGON ((-166.10574 53.988606, -166.075283 5...</td>\n",
              "    </tr>\n",
              "    <tr>\n",
              "      <th>2</th>\n",
              "      <td>0400000US04</td>\n",
              "      <td>04</td>\n",
              "      <td>Arizona</td>\n",
              "      <td></td>\n",
              "      <td>113594.084</td>\n",
              "      <td>POLYGON ((-112.538593 37.000674, -112.534545 3...</td>\n",
              "    </tr>\n",
              "    <tr>\n",
              "      <th>3</th>\n",
              "      <td>0400000US05</td>\n",
              "      <td>05</td>\n",
              "      <td>Arkansas</td>\n",
              "      <td></td>\n",
              "      <td>52035.477</td>\n",
              "      <td>POLYGON ((-94.042964 33.019219, -94.043036 33....</td>\n",
              "    </tr>\n",
              "    <tr>\n",
              "      <th>4</th>\n",
              "      <td>0400000US06</td>\n",
              "      <td>06</td>\n",
              "      <td>California</td>\n",
              "      <td></td>\n",
              "      <td>155779.220</td>\n",
              "      <td>(POLYGON ((-122.421439 37.869969, -122.421341 ...</td>\n",
              "    </tr>\n",
              "  </tbody>\n",
              "</table>\n",
              "</div>"
            ],
            "text/plain": [
              "        GEO_ID STATE        NAME LSAD  CENSUSAREA  \\\n",
              "0  0400000US01    01     Alabama        50645.326   \n",
              "1  0400000US02    02      Alaska       570640.950   \n",
              "2  0400000US04    04     Arizona       113594.084   \n",
              "3  0400000US05    05    Arkansas        52035.477   \n",
              "4  0400000US06    06  California       155779.220   \n",
              "\n",
              "                                            geometry  \n",
              "0  (POLYGON ((-88.124658 30.28364, -88.0868119999...  \n",
              "1  (POLYGON ((-166.10574 53.988606, -166.075283 5...  \n",
              "2  POLYGON ((-112.538593 37.000674, -112.534545 3...  \n",
              "3  POLYGON ((-94.042964 33.019219, -94.043036 33....  \n",
              "4  (POLYGON ((-122.421439 37.869969, -122.421341 ...  "
            ]
          },
          "metadata": {
            "tags": []
          },
          "execution_count": 21
        }
      ]
    },
    {
      "cell_type": "code",
      "metadata": {
        "id": "1THvi1GcO_L6",
        "colab_type": "code",
        "outputId": "a9ae89ed-044c-46f9-b5e8-1463ed547972",
        "colab": {
          "base_uri": "https://localhost:8080/",
          "height": 34
        }
      },
      "source": [
        "type(country)"
      ],
      "execution_count": 0,
      "outputs": [
        {
          "output_type": "execute_result",
          "data": {
            "text/plain": [
              "geopandas.geodataframe.GeoDataFrame"
            ]
          },
          "metadata": {
            "tags": []
          },
          "execution_count": 22
        }
      ]
    },
    {
      "cell_type": "code",
      "metadata": {
        "id": "b1QSPWnAO_jd",
        "colab_type": "code",
        "outputId": "c752d790-304a-4b31-ecbb-ea6693b75286",
        "colab": {
          "base_uri": "https://localhost:8080/",
          "height": 34
        }
      },
      "source": [
        "type(country.geometry)"
      ],
      "execution_count": 0,
      "outputs": [
        {
          "output_type": "execute_result",
          "data": {
            "text/plain": [
              "geopandas.geoseries.GeoSeries"
            ]
          },
          "metadata": {
            "tags": []
          },
          "execution_count": 23
        }
      ]
    },
    {
      "cell_type": "code",
      "metadata": {
        "id": "R72xnwiNPAD1",
        "colab_type": "code",
        "outputId": "b055c5b1-f2cc-4884-f0fe-6c0cf604a163",
        "colab": {
          "base_uri": "https://localhost:8080/",
          "height": 34
        }
      },
      "source": [
        "#Cada objeto pode ser usado para um tipo diferente de objeto físico, como: Ponto para construção, Linha para rua,\n",
        "#Polígono para cidade e MultiPolygon para país com várias cidades internas.\n",
        "\n",
        "type(country.geometry[0])"
      ],
      "execution_count": 0,
      "outputs": [
        {
          "output_type": "execute_result",
          "data": {
            "text/plain": [
              "shapely.geometry.multipolygon.MultiPolygon"
            ]
          },
          "metadata": {
            "tags": []
          },
          "execution_count": 24
        }
      ]
    },
    {
      "cell_type": "code",
      "metadata": {
        "id": "r7qINZ09SoXA",
        "colab_type": "code",
        "outputId": "4f7653ee-efae-41b1-c6f6-35587e03b4e3",
        "colab": {
          "base_uri": "https://localhost:8080/",
          "height": 115
        }
      },
      "source": [
        "country.plot()"
      ],
      "execution_count": 0,
      "outputs": [
        {
          "output_type": "execute_result",
          "data": {
            "text/plain": [
              "<matplotlib.axes._subplots.AxesSubplot at 0x7f796b9a4f60>"
            ]
          },
          "metadata": {
            "tags": []
          },
          "execution_count": 25
        },
        {
          "output_type": "display_data",
          "data": {
            "image/png": "[encoded data removed]",
            "text/plain": [
              "<Figure size 432x288 with 1 Axes>"
            ]
          },
          "metadata": {
            "tags": []
          }
        }
      ]
    },
    {
      "cell_type": "code",
      "metadata": {
        "id": "Da39Wf3wSol6",
        "colab_type": "code",
        "outputId": "97b17ee9-23f5-4d92-8789-1a062253fde7",
        "colab": {
          "base_uri": "https://localhost:8080/",
          "height": 592
        }
      },
      "source": [
        "#Exclude Alaska and Hawaii for now\n",
        "country[country['NAME'].isin(['Alaska','Hawaii']) == False].plot(figsize=(20,10), color='#3B3C6E');"
      ],
      "execution_count": 0,
      "outputs": [
        {
          "output_type": "display_data",
          "data": {
            "image/png": "[encoded data removed]",
            "text/plain": [
              "<Figure size 1440x720 with 1 Axes>"
            ]
          },
          "metadata": {
            "tags": []
          }
        }
      ]
    },
    {
      "cell_type": "code",
      "metadata": {
        "id": "2KqAOyn8SoiF",
        "colab_type": "code",
        "outputId": "76e67681-7bc9-4cdf-e082-a2eb69c5f196",
        "colab": {
          "resources": {
            "http://localhost:8080/nbextensions/google.colab/files.js": {
              "data": "Ly8gQ29weXJpZ2h0IDIwMTcgR29vZ2xlIExMQwovLwovLyBMaWNlbnNlZCB1bmRlciB0aGUgQXBhY2hlIExpY2Vuc2UsIFZlcnNpb24gMi4wICh0aGUgIkxpY2Vuc2UiKTsKLy8geW91IG1heSBub3QgdXNlIHRoaXMgZmlsZSBleGNlcHQgaW4gY29tcGxpYW5jZSB3aXRoIHRoZSBMaWNlbnNlLgovLyBZb3UgbWF5IG9idGFpbiBhIGNvcHkgb2YgdGhlIExpY2Vuc2UgYXQKLy8KLy8gICAgICBodHRwOi8vd3d3LmFwYWNoZS5vcmcvbGljZW5zZXMvTElDRU5TRS0yLjAKLy8KLy8gVW5sZXNzIHJlcXVpcmVkIGJ5IGFwcGxpY2FibGUgbGF3IG9yIGFncmVlZCB0byBpbiB3cml0aW5nLCBzb2Z0d2FyZQovLyBkaXN0cmlidXRlZCB1bmRlciB0aGUgTGljZW5zZSBpcyBkaXN0cmlidXRlZCBvbiBhbiAiQVMgSVMiIEJBU0lTLAovLyBXSVRIT1VUIFdBUlJBTlRJRVMgT1IgQ09ORElUSU9OUyBPRiBBTlkgS0lORCwgZWl0aGVyIGV4cHJlc3Mgb3IgaW1wbGllZC4KLy8gU2VlIHRoZSBMaWNlbnNlIGZvciB0aGUgc3BlY2lmaWMgbGFuZ3VhZ2UgZ292ZXJuaW5nIHBlcm1pc3Npb25zIGFuZAovLyBsaW1pdGF0aW9ucyB1bmRlciB0aGUgTGljZW5zZS4KCi8qKgogKiBAZmlsZW92ZXJ2aWV3IEhlbHBlcnMgZm9yIGdvb2dsZS5jb2xhYiBQeXRob24gbW9kdWxlLgogKi8KKGZ1bmN0aW9uKHNjb3BlKSB7CmZ1bmN0aW9uIHNwYW4odGV4dCwgc3R5bGVBdHRyaWJ1dGVzID0ge30pIHsKICBjb25zdCBlbGVtZW50ID0gZG9jdW1lbnQuY3JlYXRlRWxlbWVudCgnc3BhbicpOwogIGVsZW1lbnQudGV4dENvbnRlbnQgPSB0ZXh0OwogIGZvciAoY29uc3Qga2V5IG9mIE9iamVjdC5rZXlzKHN0eWxlQXR0cmlidXRlcykpIHsKICAgIGVsZW1lbnQuc3R5bGVba2V5XSA9IHN0eWxlQXR0cmlidXRlc1trZXldOwogIH0KICByZXR1cm4gZWxlbWVudDsKfQoKLy8gTWF4IG51bWJlciBvZiBieXRlcyB3aGljaCB3aWxsIGJlIHVwbG9hZGVkIGF0IGEgdGltZS4KY29uc3QgTUFYX1BBWUxPQURfU0laRSA9IDEwMCAqIDEwMjQ7Ci8vIE1heCBhbW91bnQgb2YgdGltZSB0byBibG9jayB3YWl0aW5nIGZvciB0aGUgdXNlci4KY29uc3QgRklMRV9DSEFOR0VfVElNRU9VVF9NUyA9IDMwICogMTAwMDsKCmZ1bmN0aW9uIF91cGxvYWRGaWxlcyhpbnB1dElkLCBvdXRwdXRJZCkgewogIGNvbnN0IHN0ZXBzID0gdXBsb2FkRmlsZXNTdGVwKGlucHV0SWQsIG91dHB1dElkKTsKICBjb25zdCBvdXRwdXRFbGVtZW50ID0gZG9jdW1lbnQuZ2V0RWxlbWVudEJ5SWQob3V0cHV0SWQpOwogIC8vIENhY2hlIHN0ZXBzIG9uIHRoZSBvdXRwdXRFbGVtZW50IHRvIG1ha2UgaXQgYXZhaWxhYmxlIGZvciB0aGUgbmV4dCBjYWxsCiAgLy8gdG8gdXBsb2FkRmlsZXNDb250aW51ZSBmcm9tIFB5dGhvbi4KICBvdXRwdXRFbGVtZW50LnN0ZXBzID0gc3RlcHM7CgogIHJldHVybiBfdXBsb2FkRmlsZXNDb250aW51ZShvdXRwdXRJZCk7Cn0KCi8vIFRoaXMgaXMgcm91Z2hseSBhbiBhc3luYyBnZW5lcmF0b3IgKG5vdCBzdXBwb3J0ZWQgaW4gdGhlIGJyb3dzZXIgeWV0KSwKLy8gd2hlcmUgdGhlcmUgYXJlIG11bHRpcGxlIGFzeW5jaHJvbm91cyBzdGVwcyBhbmQgdGhlIFB5dGhvbiBzaWRlIGlzIGdvaW5nCi8vIHRvIHBvbGwgZm9yIGNvbXBsZXRpb24gb2YgZWFjaCBzdGVwLgovLyBUaGlzIHVzZXMgYSBQcm9taXNlIHRvIGJsb2NrIHRoZSBweXRob24gc2lkZSBvbiBjb21wbGV0aW9uIG9mIGVhY2ggc3RlcCwKLy8gdGhlbiBwYXNzZXMgdGhlIHJlc3VsdCBvZiB0aGUgcHJldmlvdXMgc3RlcCBhcyB0aGUgaW5wdXQgdG8gdGhlIG5leHQgc3RlcC4KZnVuY3Rpb24gX3VwbG9hZEZpbGVzQ29udGludWUob3V0cHV0SWQpIHsKICBjb25zdCBvdXRwdXRFbGVtZW50ID0gZG9jdW1lbnQuZ2V0RWxlbWVudEJ5SWQob3V0cHV0SWQpOwogIGNvbnN0IHN0ZXBzID0gb3V0cHV0RWxlbWVudC5zdGVwczsKCiAgY29uc3QgbmV4dCA9IHN0ZXBzLm5leHQob3V0cHV0RWxlbWVudC5sYXN0UHJvbWlzZVZhbHVlKTsKICByZXR1cm4gUHJvbWlzZS5yZXNvbHZlKG5leHQudmFsdWUucHJvbWlzZSkudGhlbigodmFsdWUpID0+IHsKICAgIC8vIENhY2hlIHRoZSBsYXN0IHByb21pc2UgdmFsdWUgdG8gbWFrZSBpdCBhdmFpbGFibGUgdG8gdGhlIG5leHQKICAgIC8vIHN0ZXAgb2YgdGhlIGdlbmVyYXRvci4KICAgIG91dHB1dEVsZW1lbnQubGFzdFByb21pc2VWYWx1ZSA9IHZhbHVlOwogICAgcmV0dXJuIG5leHQudmFsdWUucmVzcG9uc2U7CiAgfSk7Cn0KCi8qKgogKiBHZW5lcmF0b3IgZnVuY3Rpb24gd2hpY2ggaXMgY2FsbGVkIGJldHdlZW4gZWFjaCBhc3luYyBzdGVwIG9mIHRoZSB1cGxvYWQKICogcHJvY2Vzcy4KICogQHBhcmFtIHtzdHJpbmd9IGlucHV0SWQgRWxlbWVudCBJRCBvZiB0aGUgaW5wdXQgZmlsZSBwaWNrZXIgZWxlbWVudC4KICogQHBhcmFtIHtzdHJpbmd9IG91dHB1dElkIEVsZW1lbnQgSUQgb2YgdGhlIG91dHB1dCBkaXNwbGF5LgogKiBAcmV0dXJuIHshSXRlcmFibGU8IU9iamVjdD59IEl0ZXJhYmxlIG9mIG5leHQgc3RlcHMuCiAqLwpmdW5jdGlvbiogdXBsb2FkRmlsZXNTdGVwKGlucHV0SWQsIG91dHB1dElkKSB7CiAgY29uc3QgaW5wdXRFbGVtZW50ID0gZG9jdW1lbnQuZ2V0RWxlbWVudEJ5SWQoaW5wdXRJZCk7CiAgaW5wdXRFbGVtZW50LmRpc2FibGVkID0gZmFsc2U7CgogIGNvbnN0IG91dHB1dEVsZW1lbnQgPSBkb2N1bWVudC5nZXRFbGVtZW50QnlJZChvdXRwdXRJZCk7CiAgb3V0cHV0RWxlbWVudC5pbm5lckhUTUwgPSAnJzsKCiAgY29uc3QgcGlja2VkUHJvbWlzZSA9IG5ldyBQcm9taXNlKChyZXNvbHZlKSA9PiB7CiAgICBpbnB1dEVsZW1lbnQuYWRkRXZlbnRMaXN0ZW5lcignY2hhbmdlJywgKGUpID0+IHsKICAgICAgcmVzb2x2ZShlLnRhcmdldC5maWxlcyk7CiAgICB9KTsKICB9KTsKCiAgY29uc3QgY2FuY2VsID0gZG9jdW1lbnQuY3JlYXRlRWxlbWVudCgnYnV0dG9uJyk7CiAgaW5wdXRFbGVtZW50LnBhcmVudEVsZW1lbnQuYXBwZW5kQ2hpbGQoY2FuY2VsKTsKICBjYW5jZWwudGV4dENvbnRlbnQgPSAnQ2FuY2VsIHVwbG9hZCc7CiAgY29uc3QgY2FuY2VsUHJvbWlzZSA9IG5ldyBQcm9taXNlKChyZXNvbHZlKSA9PiB7CiAgICBjYW5jZWwub25jbGljayA9ICgpID0+IHsKICAgICAgcmVzb2x2ZShudWxsKTsKICAgIH07CiAgfSk7CgogIC8vIENhbmNlbCB1cGxvYWQgaWYgdXNlciBoYXNuJ3QgcGlja2VkIGFueXRoaW5nIGluIHRpbWVvdXQuCiAgY29uc3QgdGltZW91dFByb21pc2UgPSBuZXcgUHJvbWlzZSgocmVzb2x2ZSkgPT4gewogICAgc2V0VGltZW91dCgoKSA9PiB7CiAgICAgIHJlc29sdmUobnVsbCk7CiAgICB9LCBGSUxFX0NIQU5HRV9USU1FT1VUX01TKTsKICB9KTsKCiAgLy8gV2FpdCBmb3IgdGhlIHVzZXIgdG8gcGljayB0aGUgZmlsZXMuCiAgY29uc3QgZmlsZXMgPSB5aWVsZCB7CiAgICBwcm9taXNlOiBQcm9taXNlLnJhY2UoW3BpY2tlZFByb21pc2UsIHRpbWVvdXRQcm9taXNlLCBjYW5jZWxQcm9taXNlXSksCiAgICByZXNwb25zZTogewogICAgICBhY3Rpb246ICdzdGFydGluZycsCiAgICB9CiAgfTsKCiAgaWYgKCFmaWxlcykgewogICAgcmV0dXJuIHsKICAgICAgcmVzcG9uc2U6IHsKICAgICAgICBhY3Rpb246ICdjb21wbGV0ZScsCiAgICAgIH0KICAgIH07CiAgfQoKICBjYW5jZWwucmVtb3ZlKCk7CgogIC8vIERpc2FibGUgdGhlIGlucHV0IGVsZW1lbnQgc2luY2UgZnVydGhlciBwaWNrcyBhcmUgbm90IGFsbG93ZWQuCiAgaW5wdXRFbGVtZW50LmRpc2FibGVkID0gdHJ1ZTsKCiAgZm9yIChjb25zdCBmaWxlIG9mIGZpbGVzKSB7CiAgICBjb25zdCBsaSA9IGRvY3VtZW50LmNyZWF0ZUVsZW1lbnQoJ2xpJyk7CiAgICBsaS5hcHBlbmQoc3BhbihmaWxlLm5hbWUsIHtmb250V2VpZ2h0OiAnYm9sZCd9KSk7CiAgICBsaS5hcHBlbmQoc3BhbigKICAgICAgICBgKCR7ZmlsZS50eXBlIHx8ICduL2EnfSkgLSAke2ZpbGUuc2l6ZX0gYnl0ZXMsIGAgKwogICAgICAgIGBsYXN0IG1vZGlmaWVkOiAkewogICAgICAgICAgICBmaWxlLmxhc3RNb2RpZmllZERhdGUgPyBmaWxlLmxhc3RNb2RpZmllZERhdGUudG9Mb2NhbGVEYXRlU3RyaW5nKCkgOgogICAgICAgICAgICAgICAgICAgICAgICAgICAgICAgICAgICAnbi9hJ30gLSBgKSk7CiAgICBjb25zdCBwZXJjZW50ID0gc3BhbignMCUgZG9uZScpOwogICAgbGkuYXBwZW5kQ2hpbGQocGVyY2VudCk7CgogICAgb3V0cHV0RWxlbWVudC5hcHBlbmRDaGlsZChsaSk7CgogICAgY29uc3QgZmlsZURhdGFQcm9taXNlID0gbmV3IFByb21pc2UoKHJlc29sdmUpID0+IHsKICAgICAgY29uc3QgcmVhZGVyID0gbmV3IEZpbGVSZWFkZXIoKTsKICAgICAgcmVhZGVyLm9ubG9hZCA9IChlKSA9PiB7CiAgICAgICAgcmVzb2x2ZShlLnRhcmdldC5yZXN1bHQpOwogICAgICB9OwogICAgICByZWFkZXIucmVhZEFzQXJyYXlCdWZmZXIoZmlsZSk7CiAgICB9KTsKICAgIC8vIFdhaXQgZm9yIHRoZSBkYXRhIHRvIGJlIHJlYWR5LgogICAgbGV0IGZpbGVEYXRhID0geWllbGQgewogICAgICBwcm9taXNlOiBmaWxlRGF0YVByb21pc2UsCiAgICAgIHJlc3BvbnNlOiB7CiAgICAgICAgYWN0aW9uOiAnY29udGludWUnLAogICAgICB9CiAgICB9OwoKICAgIC8vIFVzZSBhIGNodW5rZWQgc2VuZGluZyB0byBhdm9pZCBtZXNzYWdlIHNpemUgbGltaXRzLiBTZWUgYi82MjExNTY2MC4KICAgIGxldCBwb3NpdGlvbiA9IDA7CiAgICB3aGlsZSAocG9zaXRpb24gPCBmaWxlRGF0YS5ieXRlTGVuZ3RoKSB7CiAgICAgIGNvbnN0IGxlbmd0aCA9IE1hdGgubWluKGZpbGVEYXRhLmJ5dGVMZW5ndGggLSBwb3NpdGlvbiwgTUFYX1BBWUxPQURfU0laRSk7CiAgICAgIGNvbnN0IGNodW5rID0gbmV3IFVpbnQ4QXJyYXkoZmlsZURhdGEsIHBvc2l0aW9uLCBsZW5ndGgpOwogICAgICBwb3NpdGlvbiArPSBsZW5ndGg7CgogICAgICBjb25zdCBiYXNlNjQgPSBidG9hKFN0cmluZy5mcm9tQ2hhckNvZGUuYXBwbHkobnVsbCwgY2h1bmspKTsKICAgICAgeWllbGQgewogICAgICAgIHJlc3BvbnNlOiB7CiAgICAgICAgICBhY3Rpb246ICdhcHBlbmQnLAogICAgICAgICAgZmlsZTogZmlsZS5uYW1lLAogICAgICAgICAgZGF0YTogYmFzZTY0LAogICAgICAgIH0sCiAgICAgIH07CiAgICAgIHBlcmNlbnQudGV4dENvbnRlbnQgPQogICAgICAgICAgYCR7TWF0aC5yb3VuZCgocG9zaXRpb24gLyBmaWxlRGF0YS5ieXRlTGVuZ3RoKSAqIDEwMCl9JSBkb25lYDsKICAgIH0KICB9CgogIC8vIEFsbCBkb25lLgogIHlpZWxkIHsKICAgIHJlc3BvbnNlOiB7CiAgICAgIGFjdGlvbjogJ2NvbXBsZXRlJywKICAgIH0KICB9Owp9CgpzY29wZS5nb29nbGUgPSBzY29wZS5nb29nbGUgfHwge307CnNjb3BlLmdvb2dsZS5jb2xhYiA9IHNjb3BlLmdvb2dsZS5jb2xhYiB8fCB7fTsKc2NvcGUuZ29vZ2xlLmNvbGFiLl9maWxlcyA9IHsKICBfdXBsb2FkRmlsZXMsCiAgX3VwbG9hZEZpbGVzQ29udGludWUsCn07Cn0pKHNlbGYpOwo=",
              "ok": true,
              "headers": [
                [
                  "content-type",
                  "application/javascript"
                ]
              ],
              "status": 200,
              "status_text": ""
            }
          },
          "base_uri": "https://localhost:8080/",
          "height": 91
        }
      },
      "source": [
        "#upload file for colab hurricane data\n",
        "\n",
        "from google.colab import files\n",
        "\n",
        "uploaded = files.upload()\n",
        "\n",
        "for fn in uploaded.keys():\n",
        "  print('User uploaded file \"stormhistory\" with length {length} bytes'.format(\n",
        "      name=fn, length=len(uploaded[fn])))"
      ],
      "execution_count": 0,
      "outputs": [
        {
          "output_type": "display_data",
          "data": {
            "text/html": [
              "\n",
              "     <input type=\"file\" id=\"files-e9db5dd1-b3e3-4e74-bf67-5b13eb22a16b\" name=\"files[]\" multiple disabled />\n",
              "     <output id=\"result-e9db5dd1-b3e3-4e74-bf67-5b13eb22a16b\">\n",
              "      Upload widget is only available when the cell has been executed in the\n",
              "      current browser session. Please rerun this cell to enable.\n",
              "      </output>\n",
              "      <script src=\"/nbextensions/google.colab/files.js\"></script> "
            ],
            "text/plain": [
              "<IPython.core.display.HTML object>"
            ]
          },
          "metadata": {
            "tags": []
          }
        },
        {
          "output_type": "stream",
          "text": [
            "Saving stormhistory.csv to stormhistory.csv\n",
            "User uploaded file \"stormhistory\" with length 13685 bytes\n"
          ],
          "name": "stdout"
        }
      ]
    },
    {
      "cell_type": "code",
      "metadata": {
        "id": "yAGeDc-6SoRm",
        "colab_type": "code",
        "outputId": "1271e61d-062d-43c5-b2cf-48c66ffbd9c9",
        "colab": {
          "base_uri": "https://localhost:8080/",
          "height": 204
        }
      },
      "source": [
        "florence = pd.read_csv(\"stormhistory.csv\")\n",
        "florence.head()"
      ],
      "execution_count": 0,
      "outputs": [
        {
          "output_type": "execute_result",
          "data": {
            "text/html": [
              "<div>\n",
              "<style scoped>\n",
              "    .dataframe tbody tr th:only-of-type {\n",
              "        vertical-align: middle;\n",
              "    }\n",
              "\n",
              "    .dataframe tbody tr th {\n",
              "        vertical-align: top;\n",
              "    }\n",
              "\n",
              "    .dataframe thead th {\n",
              "        text-align: right;\n",
              "    }\n",
              "</style>\n",
              "<table border=\"1\" class=\"dataframe\">\n",
              "  <thead>\n",
              "    <tr style=\"text-align: right;\">\n",
              "      <th></th>\n",
              "      <th>AdvisoryNumber</th>\n",
              "      <th>Date</th>\n",
              "      <th>Lat</th>\n",
              "      <th>Long</th>\n",
              "      <th>Wind</th>\n",
              "      <th>Pres</th>\n",
              "      <th>Movement</th>\n",
              "      <th>Type</th>\n",
              "      <th>Name</th>\n",
              "      <th>Received</th>\n",
              "      <th>Forecaster</th>\n",
              "    </tr>\n",
              "  </thead>\n",
              "  <tbody>\n",
              "    <tr>\n",
              "      <th>0</th>\n",
              "      <td>1</td>\n",
              "      <td>08/30/2018 11:00</td>\n",
              "      <td>12.9</td>\n",
              "      <td>18.4</td>\n",
              "      <td>30</td>\n",
              "      <td>1007</td>\n",
              "      <td>W at 12 MPH (280 deg)</td>\n",
              "      <td>Potential Tropical Cyclone</td>\n",
              "      <td>Six</td>\n",
              "      <td>08/30/2018 10:45</td>\n",
              "      <td>Avila</td>\n",
              "    </tr>\n",
              "    <tr>\n",
              "      <th>1</th>\n",
              "      <td>1A</td>\n",
              "      <td>08/30/2018 14:00</td>\n",
              "      <td>12.9</td>\n",
              "      <td>19.0</td>\n",
              "      <td>30</td>\n",
              "      <td>1007</td>\n",
              "      <td>W at 12 MPH (280 deg)</td>\n",
              "      <td>Potential Tropical Cyclone</td>\n",
              "      <td>Six</td>\n",
              "      <td>08/30/2018 13:36</td>\n",
              "      <td>Avila</td>\n",
              "    </tr>\n",
              "    <tr>\n",
              "      <th>2</th>\n",
              "      <td>2</td>\n",
              "      <td>08/30/2018 17:00</td>\n",
              "      <td>12.9</td>\n",
              "      <td>19.4</td>\n",
              "      <td>30</td>\n",
              "      <td>1007</td>\n",
              "      <td>W at 9 MPH (280 deg)</td>\n",
              "      <td>Potential Tropical Cyclone</td>\n",
              "      <td>Six</td>\n",
              "      <td>08/30/2018 16:36</td>\n",
              "      <td>Avila</td>\n",
              "    </tr>\n",
              "    <tr>\n",
              "      <th>3</th>\n",
              "      <td>2A</td>\n",
              "      <td>08/30/2018 20:00</td>\n",
              "      <td>13.1</td>\n",
              "      <td>20.4</td>\n",
              "      <td>30</td>\n",
              "      <td>1007</td>\n",
              "      <td>W at 11 MPH (280 deg)</td>\n",
              "      <td>Potential Tropical Cyclone</td>\n",
              "      <td>Six</td>\n",
              "      <td>08/30/2018 19:44</td>\n",
              "      <td>Beven</td>\n",
              "    </tr>\n",
              "    <tr>\n",
              "      <th>4</th>\n",
              "      <td>3</td>\n",
              "      <td>08/30/2018 23:00</td>\n",
              "      <td>13.2</td>\n",
              "      <td>20.9</td>\n",
              "      <td>35</td>\n",
              "      <td>1007</td>\n",
              "      <td>W at 13 MPH (280 deg)</td>\n",
              "      <td>Potential Tropical Cyclone</td>\n",
              "      <td>Six</td>\n",
              "      <td>08/30/2018 22:42</td>\n",
              "      <td>Beven</td>\n",
              "    </tr>\n",
              "  </tbody>\n",
              "</table>\n",
              "</div>"
            ],
            "text/plain": [
              "  AdvisoryNumber              Date   Lat  Long  Wind  Pres  \\\n",
              "0              1  08/30/2018 11:00  12.9  18.4    30  1007   \n",
              "1             1A  08/30/2018 14:00  12.9  19.0    30  1007   \n",
              "2              2  08/30/2018 17:00  12.9  19.4    30  1007   \n",
              "3             2A  08/30/2018 20:00  13.1  20.4    30  1007   \n",
              "4              3  08/30/2018 23:00  13.2  20.9    35  1007   \n",
              "\n",
              "                Movement                        Type Name          Received  \\\n",
              "0  W at 12 MPH (280 deg)  Potential Tropical Cyclone  Six  08/30/2018 10:45   \n",
              "1  W at 12 MPH (280 deg)  Potential Tropical Cyclone  Six  08/30/2018 13:36   \n",
              "2   W at 9 MPH (280 deg)  Potential Tropical Cyclone  Six  08/30/2018 16:36   \n",
              "3  W at 11 MPH (280 deg)  Potential Tropical Cyclone  Six  08/30/2018 19:44   \n",
              "4  W at 13 MPH (280 deg)  Potential Tropical Cyclone  Six  08/30/2018 22:42   \n",
              "\n",
              "  Forecaster  \n",
              "0      Avila  \n",
              "1      Avila  \n",
              "2      Avila  \n",
              "3      Beven  \n",
              "4      Beven  "
            ]
          },
          "metadata": {
            "tags": []
          },
          "execution_count": 31
        }
      ]
    },
    {
      "cell_type": "code",
      "metadata": {
        "id": "C36rpEy_O_eX",
        "colab_type": "code",
        "colab": {}
      },
      "source": [
        "\"\"\"\"\n",
        "Análise exploratória de dados\n",
        "Essa é sempre a primeira coisa que você faz ao carregar qualquer conjunto de dados:\n",
        "\n",
        "Verificando as informações, tipo de dados\n",
        "Qualquer valor ausente\n",
        "Dados estatísticos\n",
        "\n",
        "\"\"\"\""
      ],
      "execution_count": 0,
      "outputs": []
    },
    {
      "cell_type": "code",
      "metadata": {
        "id": "gLbW5ZJdWEG6",
        "colab_type": "code",
        "outputId": "72e360a2-5013-4798-a93b-0fb43d7a43ca",
        "colab": {
          "base_uri": "https://localhost:8080/",
          "height": 289
        }
      },
      "source": [
        "florence.info()"
      ],
      "execution_count": 0,
      "outputs": [
        {
          "output_type": "stream",
          "text": [
            "<class 'pandas.core.frame.DataFrame'>\n",
            "RangeIndex: 105 entries, 0 to 104\n",
            "Data columns (total 11 columns):\n",
            "AdvisoryNumber    105 non-null object\n",
            "Date              105 non-null object\n",
            "Lat               105 non-null float64\n",
            "Long              105 non-null float64\n",
            "Wind              105 non-null int64\n",
            "Pres              105 non-null int64\n",
            "Movement          105 non-null object\n",
            "Type              105 non-null object\n",
            "Name              105 non-null object\n",
            "Received          105 non-null object\n",
            "Forecaster        104 non-null object\n",
            "dtypes: float64(2), int64(2), object(7)\n",
            "memory usage: 9.1+ KB\n"
          ],
          "name": "stdout"
        }
      ]
    },
    {
      "cell_type": "code",
      "metadata": {
        "id": "TyWiAG3QWETG",
        "colab_type": "code",
        "outputId": "54dac545-3e9c-47fe-ddfc-5cb292a662ea",
        "colab": {
          "base_uri": "https://localhost:8080/",
          "height": 749
        }
      },
      "source": [
        "msn.bar(florence, color = 'darkolivegreen')"
      ],
      "execution_count": 0,
      "outputs": [
        {
          "output_type": "execute_result",
          "data": {
            "text/plain": [
              "<matplotlib.axes._subplots.AxesSubplot at 0x7f795cd9cf28>"
            ]
          },
          "metadata": {
            "tags": []
          },
          "execution_count": 36
        },
        {
          "output_type": "display_data",
          "data": {
            "image/png": "[encoded data removed]",
            "text/plain": [
              "<Figure size 1728x720 with 3 Axes>"
            ]
          },
          "metadata": {
            "tags": []
          }
        }
      ]
    },
    {
      "cell_type": "code",
      "metadata": {
        "id": "eWI0kte3O_aA",
        "colab_type": "code",
        "outputId": "c27edeaa-7a94-4bab-9949-c2e0620aec8c",
        "colab": {
          "base_uri": "https://localhost:8080/",
          "height": 297
        }
      },
      "source": [
        "florence.describe()"
      ],
      "execution_count": 0,
      "outputs": [
        {
          "output_type": "execute_result",
          "data": {
            "text/html": [
              "<div>\n",
              "<style scoped>\n",
              "    .dataframe tbody tr th:only-of-type {\n",
              "        vertical-align: middle;\n",
              "    }\n",
              "\n",
              "    .dataframe tbody tr th {\n",
              "        vertical-align: top;\n",
              "    }\n",
              "\n",
              "    .dataframe thead th {\n",
              "        text-align: right;\n",
              "    }\n",
              "</style>\n",
              "<table border=\"1\" class=\"dataframe\">\n",
              "  <thead>\n",
              "    <tr style=\"text-align: right;\">\n",
              "      <th></th>\n",
              "      <th>Lat</th>\n",
              "      <th>Long</th>\n",
              "      <th>Wind</th>\n",
              "      <th>Pres</th>\n",
              "    </tr>\n",
              "  </thead>\n",
              "  <tbody>\n",
              "    <tr>\n",
              "      <th>count</th>\n",
              "      <td>105.000000</td>\n",
              "      <td>105.000000</td>\n",
              "      <td>105.000000</td>\n",
              "      <td>105.000000</td>\n",
              "    </tr>\n",
              "    <tr>\n",
              "      <th>mean</th>\n",
              "      <td>25.931429</td>\n",
              "      <td>56.938095</td>\n",
              "      <td>74.428571</td>\n",
              "      <td>981.571429</td>\n",
              "    </tr>\n",
              "    <tr>\n",
              "      <th>std</th>\n",
              "      <td>7.975917</td>\n",
              "      <td>20.878865</td>\n",
              "      <td>36.560765</td>\n",
              "      <td>22.780667</td>\n",
              "    </tr>\n",
              "    <tr>\n",
              "      <th>min</th>\n",
              "      <td>12.900000</td>\n",
              "      <td>18.400000</td>\n",
              "      <td>25.000000</td>\n",
              "      <td>939.000000</td>\n",
              "    </tr>\n",
              "    <tr>\n",
              "      <th>25%</th>\n",
              "      <td>18.900000</td>\n",
              "      <td>41.000000</td>\n",
              "      <td>40.000000</td>\n",
              "      <td>956.000000</td>\n",
              "    </tr>\n",
              "    <tr>\n",
              "      <th>50%</th>\n",
              "      <td>25.100000</td>\n",
              "      <td>60.000000</td>\n",
              "      <td>70.000000</td>\n",
              "      <td>989.000000</td>\n",
              "    </tr>\n",
              "    <tr>\n",
              "      <th>75%</th>\n",
              "      <td>33.600000</td>\n",
              "      <td>76.400000</td>\n",
              "      <td>105.000000</td>\n",
              "      <td>1002.000000</td>\n",
              "    </tr>\n",
              "    <tr>\n",
              "      <th>max</th>\n",
              "      <td>42.600000</td>\n",
              "      <td>82.900000</td>\n",
              "      <td>140.000000</td>\n",
              "      <td>1008.000000</td>\n",
              "    </tr>\n",
              "  </tbody>\n",
              "</table>\n",
              "</div>"
            ],
            "text/plain": [
              "              Lat        Long        Wind         Pres\n",
              "count  105.000000  105.000000  105.000000   105.000000\n",
              "mean    25.931429   56.938095   74.428571   981.571429\n",
              "std      7.975917   20.878865   36.560765    22.780667\n",
              "min     12.900000   18.400000   25.000000   939.000000\n",
              "25%     18.900000   41.000000   40.000000   956.000000\n",
              "50%     25.100000   60.000000   70.000000   989.000000\n",
              "75%     33.600000   76.400000  105.000000  1002.000000\n",
              "max     42.600000   82.900000  140.000000  1008.000000"
            ]
          },
          "metadata": {
            "tags": []
          },
          "execution_count": 37
        }
      ]
    },
    {
      "cell_type": "code",
      "metadata": {
        "id": "C2aLQs7RW791",
        "colab_type": "code",
        "outputId": "022af47f-9657-4d82-f1e7-5dee91bd8666",
        "colab": {
          "base_uri": "https://localhost:8080/",
          "height": 204
        }
      },
      "source": [
        "# dropping all unused features:\n",
        "florence = florence.drop(['AdvisoryNumber', 'Forecaster', 'Received'], axis=1)\n",
        "florence.head()"
      ],
      "execution_count": 0,
      "outputs": [
        {
          "output_type": "execute_result",
          "data": {
            "text/html": [
              "<div>\n",
              "<style scoped>\n",
              "    .dataframe tbody tr th:only-of-type {\n",
              "        vertical-align: middle;\n",
              "    }\n",
              "\n",
              "    .dataframe tbody tr th {\n",
              "        vertical-align: top;\n",
              "    }\n",
              "\n",
              "    .dataframe thead th {\n",
              "        text-align: right;\n",
              "    }\n",
              "</style>\n",
              "<table border=\"1\" class=\"dataframe\">\n",
              "  <thead>\n",
              "    <tr style=\"text-align: right;\">\n",
              "      <th></th>\n",
              "      <th>Date</th>\n",
              "      <th>Lat</th>\n",
              "      <th>Long</th>\n",
              "      <th>Wind</th>\n",
              "      <th>Pres</th>\n",
              "      <th>Movement</th>\n",
              "      <th>Type</th>\n",
              "      <th>Name</th>\n",
              "    </tr>\n",
              "  </thead>\n",
              "  <tbody>\n",
              "    <tr>\n",
              "      <th>0</th>\n",
              "      <td>08/30/2018 11:00</td>\n",
              "      <td>12.9</td>\n",
              "      <td>18.4</td>\n",
              "      <td>30</td>\n",
              "      <td>1007</td>\n",
              "      <td>W at 12 MPH (280 deg)</td>\n",
              "      <td>Potential Tropical Cyclone</td>\n",
              "      <td>Six</td>\n",
              "    </tr>\n",
              "    <tr>\n",
              "      <th>1</th>\n",
              "      <td>08/30/2018 14:00</td>\n",
              "      <td>12.9</td>\n",
              "      <td>19.0</td>\n",
              "      <td>30</td>\n",
              "      <td>1007</td>\n",
              "      <td>W at 12 MPH (280 deg)</td>\n",
              "      <td>Potential Tropical Cyclone</td>\n",
              "      <td>Six</td>\n",
              "    </tr>\n",
              "    <tr>\n",
              "      <th>2</th>\n",
              "      <td>08/30/2018 17:00</td>\n",
              "      <td>12.9</td>\n",
              "      <td>19.4</td>\n",
              "      <td>30</td>\n",
              "      <td>1007</td>\n",
              "      <td>W at 9 MPH (280 deg)</td>\n",
              "      <td>Potential Tropical Cyclone</td>\n",
              "      <td>Six</td>\n",
              "    </tr>\n",
              "    <tr>\n",
              "      <th>3</th>\n",
              "      <td>08/30/2018 20:00</td>\n",
              "      <td>13.1</td>\n",
              "      <td>20.4</td>\n",
              "      <td>30</td>\n",
              "      <td>1007</td>\n",
              "      <td>W at 11 MPH (280 deg)</td>\n",
              "      <td>Potential Tropical Cyclone</td>\n",
              "      <td>Six</td>\n",
              "    </tr>\n",
              "    <tr>\n",
              "      <th>4</th>\n",
              "      <td>08/30/2018 23:00</td>\n",
              "      <td>13.2</td>\n",
              "      <td>20.9</td>\n",
              "      <td>35</td>\n",
              "      <td>1007</td>\n",
              "      <td>W at 13 MPH (280 deg)</td>\n",
              "      <td>Potential Tropical Cyclone</td>\n",
              "      <td>Six</td>\n",
              "    </tr>\n",
              "  </tbody>\n",
              "</table>\n",
              "</div>"
            ],
            "text/plain": [
              "               Date   Lat  Long  Wind  Pres               Movement  \\\n",
              "0  08/30/2018 11:00  12.9  18.4    30  1007  W at 12 MPH (280 deg)   \n",
              "1  08/30/2018 14:00  12.9  19.0    30  1007  W at 12 MPH (280 deg)   \n",
              "2  08/30/2018 17:00  12.9  19.4    30  1007   W at 9 MPH (280 deg)   \n",
              "3  08/30/2018 20:00  13.1  20.4    30  1007  W at 11 MPH (280 deg)   \n",
              "4  08/30/2018 23:00  13.2  20.9    35  1007  W at 13 MPH (280 deg)   \n",
              "\n",
              "                         Type Name  \n",
              "0  Potential Tropical Cyclone  Six  \n",
              "1  Potential Tropical Cyclone  Six  \n",
              "2  Potential Tropical Cyclone  Six  \n",
              "3  Potential Tropical Cyclone  Six  \n",
              "4  Potential Tropical Cyclone  Six  "
            ]
          },
          "metadata": {
            "tags": []
          },
          "execution_count": 38
        }
      ]
    },
    {
      "cell_type": "code",
      "metadata": {
        "id": "SLK5v_5UW74D",
        "colab_type": "code",
        "outputId": "e06248e8-adee-4bde-acf0-76ba39979c5d",
        "colab": {
          "base_uri": "https://localhost:8080/",
          "height": 204
        }
      },
      "source": [
        "# Add \"-\" in front of the number to correctly plot the data:\n",
        "florence['Long'] = 0 - florence['Long']\n",
        "florence.head()"
      ],
      "execution_count": 0,
      "outputs": [
        {
          "output_type": "execute_result",
          "data": {
            "text/html": [
              "<div>\n",
              "<style scoped>\n",
              "    .dataframe tbody tr th:only-of-type {\n",
              "        vertical-align: middle;\n",
              "    }\n",
              "\n",
              "    .dataframe tbody tr th {\n",
              "        vertical-align: top;\n",
              "    }\n",
              "\n",
              "    .dataframe thead th {\n",
              "        text-align: right;\n",
              "    }\n",
              "</style>\n",
              "<table border=\"1\" class=\"dataframe\">\n",
              "  <thead>\n",
              "    <tr style=\"text-align: right;\">\n",
              "      <th></th>\n",
              "      <th>Date</th>\n",
              "      <th>Lat</th>\n",
              "      <th>Long</th>\n",
              "      <th>Wind</th>\n",
              "      <th>Pres</th>\n",
              "      <th>Movement</th>\n",
              "      <th>Type</th>\n",
              "      <th>Name</th>\n",
              "    </tr>\n",
              "  </thead>\n",
              "  <tbody>\n",
              "    <tr>\n",
              "      <th>0</th>\n",
              "      <td>08/30/2018 11:00</td>\n",
              "      <td>12.9</td>\n",
              "      <td>-18.4</td>\n",
              "      <td>30</td>\n",
              "      <td>1007</td>\n",
              "      <td>W at 12 MPH (280 deg)</td>\n",
              "      <td>Potential Tropical Cyclone</td>\n",
              "      <td>Six</td>\n",
              "    </tr>\n",
              "    <tr>\n",
              "      <th>1</th>\n",
              "      <td>08/30/2018 14:00</td>\n",
              "      <td>12.9</td>\n",
              "      <td>-19.0</td>\n",
              "      <td>30</td>\n",
              "      <td>1007</td>\n",
              "      <td>W at 12 MPH (280 deg)</td>\n",
              "      <td>Potential Tropical Cyclone</td>\n",
              "      <td>Six</td>\n",
              "    </tr>\n",
              "    <tr>\n",
              "      <th>2</th>\n",
              "      <td>08/30/2018 17:00</td>\n",
              "      <td>12.9</td>\n",
              "      <td>-19.4</td>\n",
              "      <td>30</td>\n",
              "      <td>1007</td>\n",
              "      <td>W at 9 MPH (280 deg)</td>\n",
              "      <td>Potential Tropical Cyclone</td>\n",
              "      <td>Six</td>\n",
              "    </tr>\n",
              "    <tr>\n",
              "      <th>3</th>\n",
              "      <td>08/30/2018 20:00</td>\n",
              "      <td>13.1</td>\n",
              "      <td>-20.4</td>\n",
              "      <td>30</td>\n",
              "      <td>1007</td>\n",
              "      <td>W at 11 MPH (280 deg)</td>\n",
              "      <td>Potential Tropical Cyclone</td>\n",
              "      <td>Six</td>\n",
              "    </tr>\n",
              "    <tr>\n",
              "      <th>4</th>\n",
              "      <td>08/30/2018 23:00</td>\n",
              "      <td>13.2</td>\n",
              "      <td>-20.9</td>\n",
              "      <td>35</td>\n",
              "      <td>1007</td>\n",
              "      <td>W at 13 MPH (280 deg)</td>\n",
              "      <td>Potential Tropical Cyclone</td>\n",
              "      <td>Six</td>\n",
              "    </tr>\n",
              "  </tbody>\n",
              "</table>\n",
              "</div>"
            ],
            "text/plain": [
              "               Date   Lat  Long  Wind  Pres               Movement  \\\n",
              "0  08/30/2018 11:00  12.9 -18.4    30  1007  W at 12 MPH (280 deg)   \n",
              "1  08/30/2018 14:00  12.9 -19.0    30  1007  W at 12 MPH (280 deg)   \n",
              "2  08/30/2018 17:00  12.9 -19.4    30  1007   W at 9 MPH (280 deg)   \n",
              "3  08/30/2018 20:00  13.1 -20.4    30  1007  W at 11 MPH (280 deg)   \n",
              "4  08/30/2018 23:00  13.2 -20.9    35  1007  W at 13 MPH (280 deg)   \n",
              "\n",
              "                         Type Name  \n",
              "0  Potential Tropical Cyclone  Six  \n",
              "1  Potential Tropical Cyclone  Six  \n",
              "2  Potential Tropical Cyclone  Six  \n",
              "3  Potential Tropical Cyclone  Six  \n",
              "4  Potential Tropical Cyclone  Six  "
            ]
          },
          "metadata": {
            "tags": []
          },
          "execution_count": 39
        }
      ]
    },
    {
      "cell_type": "code",
      "metadata": {
        "id": "WR5Gi5JTW7yi",
        "colab_type": "code",
        "outputId": "15ff9d39-c61b-4ddd-bba5-5e826a9bdcff",
        "colab": {
          "base_uri": "https://localhost:8080/",
          "height": 204
        }
      },
      "source": [
        "# Combining Lattitude and Longitude to create hurricane coordinates:\n",
        "florence['coordinates'] = florence[['Long','Lat']].values.tolist()\n",
        "florence.head()"
      ],
      "execution_count": 0,
      "outputs": [
        {
          "output_type": "execute_result",
          "data": {
            "text/html": [
              "<div>\n",
              "<style scoped>\n",
              "    .dataframe tbody tr th:only-of-type {\n",
              "        vertical-align: middle;\n",
              "    }\n",
              "\n",
              "    .dataframe tbody tr th {\n",
              "        vertical-align: top;\n",
              "    }\n",
              "\n",
              "    .dataframe thead th {\n",
              "        text-align: right;\n",
              "    }\n",
              "</style>\n",
              "<table border=\"1\" class=\"dataframe\">\n",
              "  <thead>\n",
              "    <tr style=\"text-align: right;\">\n",
              "      <th></th>\n",
              "      <th>Date</th>\n",
              "      <th>Lat</th>\n",
              "      <th>Long</th>\n",
              "      <th>Wind</th>\n",
              "      <th>Pres</th>\n",
              "      <th>Movement</th>\n",
              "      <th>Type</th>\n",
              "      <th>Name</th>\n",
              "      <th>coordinates</th>\n",
              "    </tr>\n",
              "  </thead>\n",
              "  <tbody>\n",
              "    <tr>\n",
              "      <th>0</th>\n",
              "      <td>08/30/2018 11:00</td>\n",
              "      <td>12.9</td>\n",
              "      <td>-18.4</td>\n",
              "      <td>30</td>\n",
              "      <td>1007</td>\n",
              "      <td>W at 12 MPH (280 deg)</td>\n",
              "      <td>Potential Tropical Cyclone</td>\n",
              "      <td>Six</td>\n",
              "      <td>[-18.4, 12.9]</td>\n",
              "    </tr>\n",
              "    <tr>\n",
              "      <th>1</th>\n",
              "      <td>08/30/2018 14:00</td>\n",
              "      <td>12.9</td>\n",
              "      <td>-19.0</td>\n",
              "      <td>30</td>\n",
              "      <td>1007</td>\n",
              "      <td>W at 12 MPH (280 deg)</td>\n",
              "      <td>Potential Tropical Cyclone</td>\n",
              "      <td>Six</td>\n",
              "      <td>[-19.0, 12.9]</td>\n",
              "    </tr>\n",
              "    <tr>\n",
              "      <th>2</th>\n",
              "      <td>08/30/2018 17:00</td>\n",
              "      <td>12.9</td>\n",
              "      <td>-19.4</td>\n",
              "      <td>30</td>\n",
              "      <td>1007</td>\n",
              "      <td>W at 9 MPH (280 deg)</td>\n",
              "      <td>Potential Tropical Cyclone</td>\n",
              "      <td>Six</td>\n",
              "      <td>[-19.4, 12.9]</td>\n",
              "    </tr>\n",
              "    <tr>\n",
              "      <th>3</th>\n",
              "      <td>08/30/2018 20:00</td>\n",
              "      <td>13.1</td>\n",
              "      <td>-20.4</td>\n",
              "      <td>30</td>\n",
              "      <td>1007</td>\n",
              "      <td>W at 11 MPH (280 deg)</td>\n",
              "      <td>Potential Tropical Cyclone</td>\n",
              "      <td>Six</td>\n",
              "      <td>[-20.4, 13.1]</td>\n",
              "    </tr>\n",
              "    <tr>\n",
              "      <th>4</th>\n",
              "      <td>08/30/2018 23:00</td>\n",
              "      <td>13.2</td>\n",
              "      <td>-20.9</td>\n",
              "      <td>35</td>\n",
              "      <td>1007</td>\n",
              "      <td>W at 13 MPH (280 deg)</td>\n",
              "      <td>Potential Tropical Cyclone</td>\n",
              "      <td>Six</td>\n",
              "      <td>[-20.9, 13.2]</td>\n",
              "    </tr>\n",
              "  </tbody>\n",
              "</table>\n",
              "</div>"
            ],
            "text/plain": [
              "               Date   Lat  Long  Wind  Pres               Movement  \\\n",
              "0  08/30/2018 11:00  12.9 -18.4    30  1007  W at 12 MPH (280 deg)   \n",
              "1  08/30/2018 14:00  12.9 -19.0    30  1007  W at 12 MPH (280 deg)   \n",
              "2  08/30/2018 17:00  12.9 -19.4    30  1007   W at 9 MPH (280 deg)   \n",
              "3  08/30/2018 20:00  13.1 -20.4    30  1007  W at 11 MPH (280 deg)   \n",
              "4  08/30/2018 23:00  13.2 -20.9    35  1007  W at 13 MPH (280 deg)   \n",
              "\n",
              "                         Type Name    coordinates  \n",
              "0  Potential Tropical Cyclone  Six  [-18.4, 12.9]  \n",
              "1  Potential Tropical Cyclone  Six  [-19.0, 12.9]  \n",
              "2  Potential Tropical Cyclone  Six  [-19.4, 12.9]  \n",
              "3  Potential Tropical Cyclone  Six  [-20.4, 13.1]  \n",
              "4  Potential Tropical Cyclone  Six  [-20.9, 13.2]  "
            ]
          },
          "metadata": {
            "tags": []
          },
          "execution_count": 41
        }
      ]
    },
    {
      "cell_type": "code",
      "metadata": {
        "id": "Tvj9C8vtO_VW",
        "colab_type": "code",
        "outputId": "000115ec-8aa6-4911-8868-538bb8f23a7a",
        "colab": {
          "base_uri": "https://localhost:8080/",
          "height": 204
        }
      },
      "source": [
        " #Change the coordinates to a geoPoint\n",
        "florence['coordinates'] = florence['coordinates'].apply(Point)\n",
        "florence.head()"
      ],
      "execution_count": 0,
      "outputs": [
        {
          "output_type": "execute_result",
          "data": {
            "text/html": [
              "<div>\n",
              "<style scoped>\n",
              "    .dataframe tbody tr th:only-of-type {\n",
              "        vertical-align: middle;\n",
              "    }\n",
              "\n",
              "    .dataframe tbody tr th {\n",
              "        vertical-align: top;\n",
              "    }\n",
              "\n",
              "    .dataframe thead th {\n",
              "        text-align: right;\n",
              "    }\n",
              "</style>\n",
              "<table border=\"1\" class=\"dataframe\">\n",
              "  <thead>\n",
              "    <tr style=\"text-align: right;\">\n",
              "      <th></th>\n",
              "      <th>Date</th>\n",
              "      <th>Lat</th>\n",
              "      <th>Long</th>\n",
              "      <th>Wind</th>\n",
              "      <th>Pres</th>\n",
              "      <th>Movement</th>\n",
              "      <th>Type</th>\n",
              "      <th>Name</th>\n",
              "      <th>coordinates</th>\n",
              "    </tr>\n",
              "  </thead>\n",
              "  <tbody>\n",
              "    <tr>\n",
              "      <th>0</th>\n",
              "      <td>08/30/2018 11:00</td>\n",
              "      <td>12.9</td>\n",
              "      <td>-18.4</td>\n",
              "      <td>30</td>\n",
              "      <td>1007</td>\n",
              "      <td>W at 12 MPH (280 deg)</td>\n",
              "      <td>Potential Tropical Cyclone</td>\n",
              "      <td>Six</td>\n",
              "      <td>POINT (-18.4 12.9)</td>\n",
              "    </tr>\n",
              "    <tr>\n",
              "      <th>1</th>\n",
              "      <td>08/30/2018 14:00</td>\n",
              "      <td>12.9</td>\n",
              "      <td>-19.0</td>\n",
              "      <td>30</td>\n",
              "      <td>1007</td>\n",
              "      <td>W at 12 MPH (280 deg)</td>\n",
              "      <td>Potential Tropical Cyclone</td>\n",
              "      <td>Six</td>\n",
              "      <td>POINT (-19 12.9)</td>\n",
              "    </tr>\n",
              "    <tr>\n",
              "      <th>2</th>\n",
              "      <td>08/30/2018 17:00</td>\n",
              "      <td>12.9</td>\n",
              "      <td>-19.4</td>\n",
              "      <td>30</td>\n",
              "      <td>1007</td>\n",
              "      <td>W at 9 MPH (280 deg)</td>\n",
              "      <td>Potential Tropical Cyclone</td>\n",
              "      <td>Six</td>\n",
              "      <td>POINT (-19.4 12.9)</td>\n",
              "    </tr>\n",
              "    <tr>\n",
              "      <th>3</th>\n",
              "      <td>08/30/2018 20:00</td>\n",
              "      <td>13.1</td>\n",
              "      <td>-20.4</td>\n",
              "      <td>30</td>\n",
              "      <td>1007</td>\n",
              "      <td>W at 11 MPH (280 deg)</td>\n",
              "      <td>Potential Tropical Cyclone</td>\n",
              "      <td>Six</td>\n",
              "      <td>POINT (-20.4 13.1)</td>\n",
              "    </tr>\n",
              "    <tr>\n",
              "      <th>4</th>\n",
              "      <td>08/30/2018 23:00</td>\n",
              "      <td>13.2</td>\n",
              "      <td>-20.9</td>\n",
              "      <td>35</td>\n",
              "      <td>1007</td>\n",
              "      <td>W at 13 MPH (280 deg)</td>\n",
              "      <td>Potential Tropical Cyclone</td>\n",
              "      <td>Six</td>\n",
              "      <td>POINT (-20.9 13.2)</td>\n",
              "    </tr>\n",
              "  </tbody>\n",
              "</table>\n",
              "</div>"
            ],
            "text/plain": [
              "               Date   Lat  Long  Wind  Pres               Movement  \\\n",
              "0  08/30/2018 11:00  12.9 -18.4    30  1007  W at 12 MPH (280 deg)   \n",
              "1  08/30/2018 14:00  12.9 -19.0    30  1007  W at 12 MPH (280 deg)   \n",
              "2  08/30/2018 17:00  12.9 -19.4    30  1007   W at 9 MPH (280 deg)   \n",
              "3  08/30/2018 20:00  13.1 -20.4    30  1007  W at 11 MPH (280 deg)   \n",
              "4  08/30/2018 23:00  13.2 -20.9    35  1007  W at 13 MPH (280 deg)   \n",
              "\n",
              "                         Type Name         coordinates  \n",
              "0  Potential Tropical Cyclone  Six  POINT (-18.4 12.9)  \n",
              "1  Potential Tropical Cyclone  Six    POINT (-19 12.9)  \n",
              "2  Potential Tropical Cyclone  Six  POINT (-19.4 12.9)  \n",
              "3  Potential Tropical Cyclone  Six  POINT (-20.4 13.1)  \n",
              "4  Potential Tropical Cyclone  Six  POINT (-20.9 13.2)  "
            ]
          },
          "metadata": {
            "tags": []
          },
          "execution_count": 42
        }
      ]
    },
    {
      "cell_type": "code",
      "metadata": {
        "id": "XH4tE2nrYwDw",
        "colab_type": "code",
        "outputId": "19bcc7d5-bc69-4e2c-db93-626fa91a4a45",
        "colab": {
          "base_uri": "https://localhost:8080/",
          "height": 34
        }
      },
      "source": [
        "type(florence)"
      ],
      "execution_count": 0,
      "outputs": [
        {
          "output_type": "execute_result",
          "data": {
            "text/plain": [
              "pandas.core.frame.DataFrame"
            ]
          },
          "metadata": {
            "tags": []
          },
          "execution_count": 43
        }
      ]
    },
    {
      "cell_type": "code",
      "metadata": {
        "id": "3FudwSk2Yv_d",
        "colab_type": "code",
        "outputId": "7b1d4cae-f8e5-47f3-b8e5-7001a29fcd5e",
        "colab": {
          "base_uri": "https://localhost:8080/",
          "height": 34
        }
      },
      "source": [
        "type(florence['coordinates'])"
      ],
      "execution_count": 0,
      "outputs": [
        {
          "output_type": "execute_result",
          "data": {
            "text/plain": [
              "pandas.core.series.Series"
            ]
          },
          "metadata": {
            "tags": []
          },
          "execution_count": 44
        }
      ]
    },
    {
      "cell_type": "code",
      "metadata": {
        "id": "kWtv7JAMYv60",
        "colab_type": "code",
        "outputId": "f623bcff-c67d-4481-b75a-f2c5e5c85858",
        "colab": {
          "base_uri": "https://localhost:8080/",
          "height": 204
        }
      },
      "source": [
        "#convert count df to geodf\n",
        "florence = geopandas.GeoDataFrame(florence, geometry='coordinates')\n",
        "florence.head()"
      ],
      "execution_count": 0,
      "outputs": [
        {
          "output_type": "execute_result",
          "data": {
            "text/html": [
              "<div>\n",
              "<style scoped>\n",
              "    .dataframe tbody tr th:only-of-type {\n",
              "        vertical-align: middle;\n",
              "    }\n",
              "\n",
              "    .dataframe tbody tr th {\n",
              "        vertical-align: top;\n",
              "    }\n",
              "\n",
              "    .dataframe thead th {\n",
              "        text-align: right;\n",
              "    }\n",
              "</style>\n",
              "<table border=\"1\" class=\"dataframe\">\n",
              "  <thead>\n",
              "    <tr style=\"text-align: right;\">\n",
              "      <th></th>\n",
              "      <th>Date</th>\n",
              "      <th>Lat</th>\n",
              "      <th>Long</th>\n",
              "      <th>Wind</th>\n",
              "      <th>Pres</th>\n",
              "      <th>Movement</th>\n",
              "      <th>Type</th>\n",
              "      <th>Name</th>\n",
              "      <th>coordinates</th>\n",
              "    </tr>\n",
              "  </thead>\n",
              "  <tbody>\n",
              "    <tr>\n",
              "      <th>0</th>\n",
              "      <td>08/30/2018 11:00</td>\n",
              "      <td>12.9</td>\n",
              "      <td>-18.4</td>\n",
              "      <td>30</td>\n",
              "      <td>1007</td>\n",
              "      <td>W at 12 MPH (280 deg)</td>\n",
              "      <td>Potential Tropical Cyclone</td>\n",
              "      <td>Six</td>\n",
              "      <td>POINT (-18.4 12.9)</td>\n",
              "    </tr>\n",
              "    <tr>\n",
              "      <th>1</th>\n",
              "      <td>08/30/2018 14:00</td>\n",
              "      <td>12.9</td>\n",
              "      <td>-19.0</td>\n",
              "      <td>30</td>\n",
              "      <td>1007</td>\n",
              "      <td>W at 12 MPH (280 deg)</td>\n",
              "      <td>Potential Tropical Cyclone</td>\n",
              "      <td>Six</td>\n",
              "      <td>POINT (-19 12.9)</td>\n",
              "    </tr>\n",
              "    <tr>\n",
              "      <th>2</th>\n",
              "      <td>08/30/2018 17:00</td>\n",
              "      <td>12.9</td>\n",
              "      <td>-19.4</td>\n",
              "      <td>30</td>\n",
              "      <td>1007</td>\n",
              "      <td>W at 9 MPH (280 deg)</td>\n",
              "      <td>Potential Tropical Cyclone</td>\n",
              "      <td>Six</td>\n",
              "      <td>POINT (-19.4 12.9)</td>\n",
              "    </tr>\n",
              "    <tr>\n",
              "      <th>3</th>\n",
              "      <td>08/30/2018 20:00</td>\n",
              "      <td>13.1</td>\n",
              "      <td>-20.4</td>\n",
              "      <td>30</td>\n",
              "      <td>1007</td>\n",
              "      <td>W at 11 MPH (280 deg)</td>\n",
              "      <td>Potential Tropical Cyclone</td>\n",
              "      <td>Six</td>\n",
              "      <td>POINT (-20.4 13.1)</td>\n",
              "    </tr>\n",
              "    <tr>\n",
              "      <th>4</th>\n",
              "      <td>08/30/2018 23:00</td>\n",
              "      <td>13.2</td>\n",
              "      <td>-20.9</td>\n",
              "      <td>35</td>\n",
              "      <td>1007</td>\n",
              "      <td>W at 13 MPH (280 deg)</td>\n",
              "      <td>Potential Tropical Cyclone</td>\n",
              "      <td>Six</td>\n",
              "      <td>POINT (-20.9 13.2)</td>\n",
              "    </tr>\n",
              "  </tbody>\n",
              "</table>\n",
              "</div>"
            ],
            "text/plain": [
              "               Date   Lat  Long  Wind  Pres               Movement  \\\n",
              "0  08/30/2018 11:00  12.9 -18.4    30  1007  W at 12 MPH (280 deg)   \n",
              "1  08/30/2018 14:00  12.9 -19.0    30  1007  W at 12 MPH (280 deg)   \n",
              "2  08/30/2018 17:00  12.9 -19.4    30  1007   W at 9 MPH (280 deg)   \n",
              "3  08/30/2018 20:00  13.1 -20.4    30  1007  W at 11 MPH (280 deg)   \n",
              "4  08/30/2018 23:00  13.2 -20.9    35  1007  W at 13 MPH (280 deg)   \n",
              "\n",
              "                         Type Name         coordinates  \n",
              "0  Potential Tropical Cyclone  Six  POINT (-18.4 12.9)  \n",
              "1  Potential Tropical Cyclone  Six    POINT (-19 12.9)  \n",
              "2  Potential Tropical Cyclone  Six  POINT (-19.4 12.9)  \n",
              "3  Potential Tropical Cyclone  Six  POINT (-20.4 13.1)  \n",
              "4  Potential Tropical Cyclone  Six  POINT (-20.9 13.2)  "
            ]
          },
          "metadata": {
            "tags": []
          },
          "execution_count": 46
        }
      ]
    },
    {
      "cell_type": "code",
      "metadata": {
        "id": "ThFAKQH7Yv2V",
        "colab_type": "code",
        "outputId": "90cfa26a-b36b-4305-b0a7-c544795b07ef",
        "colab": {
          "base_uri": "https://localhost:8080/",
          "height": 34
        }
      },
      "source": [
        "#verif data convert GeoFrame\n",
        "type(florence)"
      ],
      "execution_count": 0,
      "outputs": [
        {
          "output_type": "execute_result",
          "data": {
            "text/plain": [
              "geopandas.geodataframe.GeoDataFrame"
            ]
          },
          "metadata": {
            "tags": []
          },
          "execution_count": 47
        }
      ]
    },
    {
      "cell_type": "code",
      "metadata": {
        "id": "Apo6u8xPYvwU",
        "colab_type": "code",
        "outputId": "783f8ea2-e92f-4f40-b519-21c140230d06",
        "colab": {
          "base_uri": "https://localhost:8080/",
          "height": 34
        }
      },
      "source": [
        "type(florence['coordinates'])"
      ],
      "execution_count": 0,
      "outputs": [
        {
          "output_type": "execute_result",
          "data": {
            "text/plain": [
              "geopandas.geoseries.GeoSeries"
            ]
          },
          "metadata": {
            "tags": []
          },
          "execution_count": 49
        }
      ]
    },
    {
      "cell_type": "code",
      "metadata": {
        "id": "w4FTJgeAYvrT",
        "colab_type": "code",
        "outputId": "44ec3343-4864-45de-d9f9-0a5005db2746",
        "colab": {
          "base_uri": "https://localhost:8080/",
          "height": 359
        }
      },
      "source": [
        "florence[florence['Name']== 'Six']"
      ],
      "execution_count": 0,
      "outputs": [
        {
          "output_type": "execute_result",
          "data": {
            "text/html": [
              "<div>\n",
              "<style scoped>\n",
              "    .dataframe tbody tr th:only-of-type {\n",
              "        vertical-align: middle;\n",
              "    }\n",
              "\n",
              "    .dataframe tbody tr th {\n",
              "        vertical-align: top;\n",
              "    }\n",
              "\n",
              "    .dataframe thead th {\n",
              "        text-align: right;\n",
              "    }\n",
              "</style>\n",
              "<table border=\"1\" class=\"dataframe\">\n",
              "  <thead>\n",
              "    <tr style=\"text-align: right;\">\n",
              "      <th></th>\n",
              "      <th>Date</th>\n",
              "      <th>Lat</th>\n",
              "      <th>Long</th>\n",
              "      <th>Wind</th>\n",
              "      <th>Pres</th>\n",
              "      <th>Movement</th>\n",
              "      <th>Type</th>\n",
              "      <th>Name</th>\n",
              "      <th>coordinates</th>\n",
              "    </tr>\n",
              "  </thead>\n",
              "  <tbody>\n",
              "    <tr>\n",
              "      <th>0</th>\n",
              "      <td>08/30/2018 11:00</td>\n",
              "      <td>12.9</td>\n",
              "      <td>-18.4</td>\n",
              "      <td>30</td>\n",
              "      <td>1007</td>\n",
              "      <td>W at 12 MPH (280 deg)</td>\n",
              "      <td>Potential Tropical Cyclone</td>\n",
              "      <td>Six</td>\n",
              "      <td>POINT (-18.4 12.9)</td>\n",
              "    </tr>\n",
              "    <tr>\n",
              "      <th>1</th>\n",
              "      <td>08/30/2018 14:00</td>\n",
              "      <td>12.9</td>\n",
              "      <td>-19.0</td>\n",
              "      <td>30</td>\n",
              "      <td>1007</td>\n",
              "      <td>W at 12 MPH (280 deg)</td>\n",
              "      <td>Potential Tropical Cyclone</td>\n",
              "      <td>Six</td>\n",
              "      <td>POINT (-19 12.9)</td>\n",
              "    </tr>\n",
              "    <tr>\n",
              "      <th>2</th>\n",
              "      <td>08/30/2018 17:00</td>\n",
              "      <td>12.9</td>\n",
              "      <td>-19.4</td>\n",
              "      <td>30</td>\n",
              "      <td>1007</td>\n",
              "      <td>W at 9 MPH (280 deg)</td>\n",
              "      <td>Potential Tropical Cyclone</td>\n",
              "      <td>Six</td>\n",
              "      <td>POINT (-19.4 12.9)</td>\n",
              "    </tr>\n",
              "    <tr>\n",
              "      <th>3</th>\n",
              "      <td>08/30/2018 20:00</td>\n",
              "      <td>13.1</td>\n",
              "      <td>-20.4</td>\n",
              "      <td>30</td>\n",
              "      <td>1007</td>\n",
              "      <td>W at 11 MPH (280 deg)</td>\n",
              "      <td>Potential Tropical Cyclone</td>\n",
              "      <td>Six</td>\n",
              "      <td>POINT (-20.4 13.1)</td>\n",
              "    </tr>\n",
              "    <tr>\n",
              "      <th>4</th>\n",
              "      <td>08/30/2018 23:00</td>\n",
              "      <td>13.2</td>\n",
              "      <td>-20.9</td>\n",
              "      <td>35</td>\n",
              "      <td>1007</td>\n",
              "      <td>W at 13 MPH (280 deg)</td>\n",
              "      <td>Potential Tropical Cyclone</td>\n",
              "      <td>Six</td>\n",
              "      <td>POINT (-20.9 13.2)</td>\n",
              "    </tr>\n",
              "    <tr>\n",
              "      <th>5</th>\n",
              "      <td>08/31/2018 02:00</td>\n",
              "      <td>13.4</td>\n",
              "      <td>-21.2</td>\n",
              "      <td>35</td>\n",
              "      <td>1007</td>\n",
              "      <td>W at 13 MPH (280 deg)</td>\n",
              "      <td>Potential Tropical Cyclone</td>\n",
              "      <td>Six</td>\n",
              "      <td>POINT (-21.2 13.4)</td>\n",
              "    </tr>\n",
              "    <tr>\n",
              "      <th>6</th>\n",
              "      <td>08/31/2018 05:00</td>\n",
              "      <td>13.6</td>\n",
              "      <td>-21.4</td>\n",
              "      <td>35</td>\n",
              "      <td>1006</td>\n",
              "      <td>WNW at 12 MPH (285 deg)</td>\n",
              "      <td>Potential Tropical Cyclone</td>\n",
              "      <td>Six</td>\n",
              "      <td>POINT (-21.4 13.6)</td>\n",
              "    </tr>\n",
              "    <tr>\n",
              "      <th>7</th>\n",
              "      <td>08/31/2018 08:00</td>\n",
              "      <td>13.7</td>\n",
              "      <td>-21.8</td>\n",
              "      <td>35</td>\n",
              "      <td>1006</td>\n",
              "      <td>WNW at 12 MPH (285 deg)</td>\n",
              "      <td>Potential Tropical Cyclone</td>\n",
              "      <td>Six</td>\n",
              "      <td>POINT (-21.8 13.7)</td>\n",
              "    </tr>\n",
              "    <tr>\n",
              "      <th>8</th>\n",
              "      <td>08/31/2018 11:00</td>\n",
              "      <td>13.7</td>\n",
              "      <td>-22.7</td>\n",
              "      <td>35</td>\n",
              "      <td>1006</td>\n",
              "      <td>WNW at 13 MPH (285 deg)</td>\n",
              "      <td>Potential Tropical Cyclone</td>\n",
              "      <td>Six</td>\n",
              "      <td>POINT (-22.7 13.7)</td>\n",
              "    </tr>\n",
              "    <tr>\n",
              "      <th>9</th>\n",
              "      <td>08/31/2018 14:00</td>\n",
              "      <td>13.8</td>\n",
              "      <td>-23.3</td>\n",
              "      <td>35</td>\n",
              "      <td>1006</td>\n",
              "      <td>WNW at 13 MPH (285 deg)</td>\n",
              "      <td>Potential Tropical Cyclone</td>\n",
              "      <td>Six</td>\n",
              "      <td>POINT (-23.3 13.8)</td>\n",
              "    </tr>\n",
              "  </tbody>\n",
              "</table>\n",
              "</div>"
            ],
            "text/plain": [
              "               Date   Lat  Long  Wind  Pres                 Movement  \\\n",
              "0  08/30/2018 11:00  12.9 -18.4    30  1007    W at 12 MPH (280 deg)   \n",
              "1  08/30/2018 14:00  12.9 -19.0    30  1007    W at 12 MPH (280 deg)   \n",
              "2  08/30/2018 17:00  12.9 -19.4    30  1007     W at 9 MPH (280 deg)   \n",
              "3  08/30/2018 20:00  13.1 -20.4    30  1007    W at 11 MPH (280 deg)   \n",
              "4  08/30/2018 23:00  13.2 -20.9    35  1007    W at 13 MPH (280 deg)   \n",
              "5  08/31/2018 02:00  13.4 -21.2    35  1007    W at 13 MPH (280 deg)   \n",
              "6  08/31/2018 05:00  13.6 -21.4    35  1006  WNW at 12 MPH (285 deg)   \n",
              "7  08/31/2018 08:00  13.7 -21.8    35  1006  WNW at 12 MPH (285 deg)   \n",
              "8  08/31/2018 11:00  13.7 -22.7    35  1006  WNW at 13 MPH (285 deg)   \n",
              "9  08/31/2018 14:00  13.8 -23.3    35  1006  WNW at 13 MPH (285 deg)   \n",
              "\n",
              "                         Type Name         coordinates  \n",
              "0  Potential Tropical Cyclone  Six  POINT (-18.4 12.9)  \n",
              "1  Potential Tropical Cyclone  Six    POINT (-19 12.9)  \n",
              "2  Potential Tropical Cyclone  Six  POINT (-19.4 12.9)  \n",
              "3  Potential Tropical Cyclone  Six  POINT (-20.4 13.1)  \n",
              "4  Potential Tropical Cyclone  Six  POINT (-20.9 13.2)  \n",
              "5  Potential Tropical Cyclone  Six  POINT (-21.2 13.4)  \n",
              "6  Potential Tropical Cyclone  Six  POINT (-21.4 13.6)  \n",
              "7  Potential Tropical Cyclone  Six  POINT (-21.8 13.7)  \n",
              "8  Potential Tropical Cyclone  Six  POINT (-22.7 13.7)  \n",
              "9  Potential Tropical Cyclone  Six  POINT (-23.3 13.8)  "
            ]
          },
          "metadata": {
            "tags": []
          },
          "execution_count": 50
        }
      ]
    },
    {
      "cell_type": "code",
      "metadata": {
        "id": "W9wwHNV5Yvl8",
        "colab_type": "code",
        "outputId": "29abaa19-6d31-4840-80ba-4d01f7fa9ffb",
        "colab": {
          "base_uri": "https://localhost:8080/",
          "height": 119
        }
      },
      "source": [
        "# Groupping by name to see how many names it has in the data set:\n",
        "\n",
        "florence.groupby('Name').Type.count()"
      ],
      "execution_count": 0,
      "outputs": [
        {
          "output_type": "execute_result",
          "data": {
            "text/plain": [
              "Name\n",
              "FLORENCE     6\n",
              "Florence    85\n",
              "SIX          4\n",
              "Six         10\n",
              "Name: Type, dtype: int64"
            ]
          },
          "metadata": {
            "tags": []
          },
          "execution_count": 51
        }
      ]
    },
    {
      "cell_type": "code",
      "metadata": {
        "id": "vHTIc9LOYvgz",
        "colab_type": "code",
        "outputId": "e848ef74-402b-4567-f9b3-27bce37937fa",
        "colab": {
          "base_uri": "https://localhost:8080/",
          "height": 34
        }
      },
      "source": [
        "#finding average hurricane speed\n",
        "print(\"Mean wind speed of Hurricane Florence is {} mph and it can go up to {} mph maximum\".format(round(florence.Wind.mean(),4),\n",
        "                                                                                         florence.Wind.max()))\n",
        "\n"
      ],
      "execution_count": 0,
      "outputs": [
        {
          "output_type": "stream",
          "text": [
            "Mean wind speed of Hurricane Florence is 74.4286 mph and it can go up to 140 mph maximum\n"
          ],
          "name": "stdout"
        }
      ]
    },
    {
      "cell_type": "code",
      "metadata": {
        "id": "ZYV2PqYKYvbx",
        "colab_type": "code",
        "outputId": "41b86e2e-0710-4e4b-e79f-dac3d6da1878",
        "colab": {
          "base_uri": "https://localhost:8080/",
          "height": 579
        }
      },
      "source": [
        "florence.plot(figsize=(20,10))"
      ],
      "execution_count": 0,
      "outputs": [
        {
          "output_type": "execute_result",
          "data": {
            "text/plain": [
              "<matplotlib.axes._subplots.AxesSubplot at 0x7f795b9b80b8>"
            ]
          },
          "metadata": {
            "tags": []
          },
          "execution_count": 53
        },
        {
          "output_type": "display_data",
          "data": {
            "image/png": "[encoded data removed]",
            "text/plain": [
              "<Figure size 1440x720 with 1 Axes>"
            ]
          },
          "metadata": {
            "tags": []
          }
        }
      ]
    },
    {
      "cell_type": "code",
      "metadata": {
        "id": "oi1YuCLjYvV9",
        "colab_type": "code",
        "outputId": "1f769abf-f9be-4574-a2ec-f6b15765280f",
        "colab": {
          "base_uri": "https://localhost:8080/",
          "height": 643
        }
      },
      "source": [
        "# Plotting to see the hurricane overlay the US map:\n",
        "\n",
        "fig, ax = plt.subplots(1, figsize=(30,20))\n",
        "base = country[country['NAME'].isin(['Alaska','Hawaii']) == False].plot(ax=ax, color='#3B3C6E')\n",
        "\n",
        "# plotting the hurricane position on top with red color to stand out:\n",
        "florence.plot(ax=base, color='darkred', marker=\"*\", markersize=10);"
      ],
      "execution_count": 0,
      "outputs": [
        {
          "output_type": "display_data",
          "data": {
            "image/png": "[encoded data removed]",
            "text/plain": [
              "<Figure size 2160x1440 with 1 Axes>"
            ]
          },
          "metadata": {
            "tags": []
          }
        }
      ]
    },
    {
      "cell_type": "code",
      "metadata": {
        "id": "S2oBjpCeYvQ4",
        "colab_type": "code",
        "colab": {}
      },
      "source": [
        "#Adicionando título\n",
        "#Cor da posição do furacão com base na velocidade do vento para ver o quão forte o furacão foi quando atingiu cada cidade.\n",
        "#Remover eixo\n",
        "#Adicionar legenda\n",
        "#Salvando o resultado em um arquivo de imagem para usar posteriormente"
      ],
      "execution_count": 0,
      "outputs": []
    },
    {
      "cell_type": "code",
      "metadata": {
        "id": "W7OvWd-nYvMV",
        "colab_type": "code",
        "outputId": "b1b7e444-7950-4362-b54a-d1990c4dded5",
        "colab": {
          "base_uri": "https://localhost:8080/",
          "height": 457
        }
      },
      "source": [
        "fig, ax = plt.subplots(1, figsize=(20,10))\n",
        "base = country[country['NAME'].isin(['Alaska','Hawaii']) == False].plot(ax=ax, color='#3B3C6E')\n",
        "florence.plot(ax=base, column='Wind', marker=\"<\", markersize=10, cmap='cool', label=\"Wind speed(mph)\")\n",
        "_ = ax.axis('off')\n",
        "plt.legend()\n",
        "ax.set_title(\"Hurricane Florence in US Map\", fontsize=25)\n",
        "plt.savefig('Hurricane_footage.png',bbox_inches='tight');"
      ],
      "execution_count": 0,
      "outputs": [
        {
          "output_type": "display_data",
          "data": {
            "image/png": "[encoded data removed]",
            "text/plain": [
              "<Figure size 1440x720 with 1 Axes>"
            ]
          },
          "metadata": {
            "tags": []
          }
        }
      ]
    },
    {
      "cell_type": "code",
      "metadata": {
        "id": "-45zHPLFYvGg",
        "colab_type": "code",
        "colab": {}
      },
      "source": [
        ""
      ],
      "execution_count": 0,
      "outputs": []
    },
    {
      "cell_type": "code",
      "metadata": {
        "id": "aHZlL7nzYvBn",
        "colab_type": "code",
        "colab": {}
      },
      "source": [
        ""
      ],
      "execution_count": 0,
      "outputs": []
    }
  ]
}