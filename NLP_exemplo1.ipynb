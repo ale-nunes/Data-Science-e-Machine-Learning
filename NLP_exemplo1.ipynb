{
  "nbformat": 4,
  "nbformat_minor": 0,
  "metadata": {
    "colab": {
      "name": "NLP_exemplo1.ipynb",
      "provenance": [],
      "collapsed_sections": [],
      "include_colab_link": true
    },
    "kernelspec": {
      "name": "python3",
      "display_name": "Python 3"
    },
    "accelerator": "GPU"
  },
  "cells": [
    {
      "cell_type": "markdown",
      "metadata": {
        "id": "view-in-github",
        "colab_type": "text"
      },
      "source": [
        "<a href=\"https://colab.research.google.com/github/ale-nunes/Data-Science-e-Machine-Learning/blob/master/NLP_exemplo1.ipynb\" target=\"_parent\"><img src=\"https://colab.research.google.com/assets/colab-badge.svg\" alt=\"Open In Colab\"/></a>"
      ]
    },
    {
      "cell_type": "code",
      "metadata": {
        "id": "ziNEDtanrbWA",
        "colab_type": "code",
        "colab": {}
      },
      "source": [
        "#Problema de classificação de texto \n",
        "#Objetivo: identificar uma sentença formal ou informal"
      ],
      "execution_count": 0,
      "outputs": []
    },
    {
      "cell_type": "code",
      "metadata": {
        "id": "jpr4EZypa1-b",
        "colab_type": "code",
        "outputId": "196bd6d2-bfa5-47f5-88bd-5aed41b1b093",
        "colab": {
          "base_uri": "https://localhost:8080/",
          "height": 68
        }
      },
      "source": [
        "# 1° obtendo o corpus\n",
        "import nltk\n",
        "\n",
        "#nltk.download('nps_chat') \n",
        "#nltk.download('punkt')\n",
        "#nltk.download('stopwords')\n",
        "#nltk.download('averaged_perceptron_tagger')\n",
        "#nltk.download('wordnet')"
      ],
      "execution_count": 0,
      "outputs": [
        {
          "output_type": "stream",
          "text": [
            "[nltk_data] Downloading package wordnet to /root/nltk_data...\n",
            "[nltk_data]   Unzipping corpora/wordnet.zip.\n"
          ],
          "name": "stdout"
        },
        {
          "output_type": "execute_result",
          "data": {
            "text/plain": [
              "True"
            ]
          },
          "metadata": {
            "tags": []
          },
          "execution_count": 38
        }
      ]
    },
    {
      "cell_type": "code",
      "metadata": {
        "id": "_9g-llyca9Nh",
        "colab_type": "code",
        "outputId": "34189309-b5e1-4f27-950c-b5d09fe5a00f",
        "colab": {
          "base_uri": "https://localhost:8080/",
          "height": 54
        }
      },
      "source": [
        "from nltk.corpus import nps_chat\n",
        "\n",
        "print(nps_chat.fileids())"
      ],
      "execution_count": 0,
      "outputs": [
        {
          "output_type": "stream",
          "text": [
            "['10-19-20s_706posts.xml', '10-19-30s_705posts.xml', '10-19-40s_686posts.xml', '10-19-adults_706posts.xml', '10-24-40s_706posts.xml', '10-26-teens_706posts.xml', '11-06-adults_706posts.xml', '11-08-20s_705posts.xml', '11-08-40s_706posts.xml', '11-08-adults_705posts.xml', '11-08-teens_706posts.xml', '11-09-20s_706posts.xml', '11-09-40s_706posts.xml', '11-09-adults_706posts.xml', '11-09-teens_706posts.xml']\n"
          ],
          "name": "stdout"
        }
      ]
    },
    {
      "cell_type": "code",
      "metadata": {
        "id": "fvDnV7pda9P5",
        "colab_type": "code",
        "outputId": "04b7c015-89d7-47ce-e9b5-ed804eb08500",
        "colab": {
          "base_uri": "https://localhost:8080/",
          "height": 51
        }
      },
      "source": [
        "import nltk\n",
        "\n",
        "x_data_nps = []\n",
        "\n",
        "for fileid in nltk.corpus.nps_chat.fileids():\n",
        "    x_data_nps.extend([post.text for post in nps_chat.xml_posts(fileid)])\n",
        "\n",
        "y_data_nps = [0] * len(x_data_nps)\n",
        "\n",
        "x_data_gut = []\n",
        "for fileid in nltk.corpus.gutenberg.fileids():\n",
        "    x_data_gut.extend([' '.join(sent) for sent in nltk.corpus.gutenberg.sents(fileid)])\n",
        "    \n",
        "y_data_gut = [1] * len(x_data_gut)\n",
        "\n",
        "x_data_full = x_data_nps[:500] + x_data_gut[:500]\n",
        "print(len(x_data_full))\n",
        "y_data_full = y_data_nps[:500] + y_data_gut[:500]\n",
        "print(len(y_data_full))"
      ],
      "execution_count": 0,
      "outputs": [
        {
          "output_type": "stream",
          "text": [
            "1000\n",
            "1000\n"
          ],
          "name": "stdout"
        }
      ]
    },
    {
      "cell_type": "code",
      "metadata": {
        "id": "1W_4z7Gpa4iQ",
        "colab_type": "code",
        "outputId": "fdbf6561-25b6-485c-a23d-63ebcb21534d",
        "colab": {
          "base_uri": "https://localhost:8080/",
          "height": 71
        }
      },
      "source": [
        "print(x_data_gut[:10])\n",
        "print(y_data_gut[:10])"
      ],
      "execution_count": 0,
      "outputs": [
        {
          "output_type": "stream",
          "text": [
            "['[ Emma by Jane Austen 1816 ]', 'VOLUME I', 'CHAPTER I', 'Emma Woodhouse , handsome , clever , and rich , with a comfortable home and happy disposition , seemed to unite some of the best blessings of existence ; and had lived nearly twenty - one years in the world with very little to distress or vex her .', \"She was the youngest of the two daughters of a most affectionate , indulgent father ; and had , in consequence of her sister ' s marriage , been mistress of his house from a very early period .\", 'Her mother had died too long ago for her to have more than an indistinct remembrance of her caresses ; and her place had been supplied by an excellent woman as governess , who had fallen little short of a mother in affection .', \"Sixteen years had Miss Taylor been in Mr . Woodhouse ' s family , less as a governess than a friend , very fond of both daughters , but particularly of Emma .\", 'Between _them_ it was more the intimacy of sisters .', \"Even before Miss Taylor had ceased to hold the nominal office of governess , the mildness of her temper had hardly allowed her to impose any restraint ; and the shadow of authority being now long passed away , they had been living together as friend and friend very mutually attached , and Emma doing just what she liked ; highly esteeming Miss Taylor ' s judgment , but directed chiefly by her own .\", \"The real evils , indeed , of Emma ' s situation were the power of having rather too much her own way , and a disposition to think a little too well of herself ; these were the disadvantages which threatened alloy to her many enjoyments .\"]\n",
            "[1, 1, 1, 1, 1, 1, 1, 1, 1, 1]\n"
          ],
          "name": "stdout"
        }
      ]
    },
    {
      "cell_type": "code",
      "metadata": {
        "id": "1LHo5kNYa4k5",
        "colab_type": "code",
        "outputId": "c38f4a22-a647-4073-a072-1557bfc1bc07",
        "colab": {
          "base_uri": "https://localhost:8080/",
          "height": 51
        }
      },
      "source": [
        "import numpy as np\n",
        "\n",
        "x_data = np.array(x_data_full, dtype=object)\n",
        "print(x_data.shape)\n",
        "y_data = np.array(y_data_full)\n",
        "print(y_data.shape)"
      ],
      "execution_count": 0,
      "outputs": [
        {
          "output_type": "stream",
          "text": [
            "(1000,)\n",
            "(1000,)\n"
          ],
          "name": "stdout"
        }
      ]
    },
    {
      "cell_type": "code",
      "metadata": {
        "id": "Ystv9Fg1a4ng",
        "colab_type": "code",
        "outputId": "311987a8-a341-4963-f1ac-7bd4a1ead09d",
        "colab": {
          "base_uri": "https://localhost:8080/",
          "height": 51
        }
      },
      "source": [
        "# 2º dividindo os datasets em treino e teste\n",
        "train_index = np.random.rand(len(x_data)) < 0.80\n",
        "\n",
        "print(len(train_index))\n",
        "print(train_index[:10])"
      ],
      "execution_count": 0,
      "outputs": [
        {
          "output_type": "stream",
          "text": [
            "1000\n",
            "[ True  True  True  True False  True  True  True  True  True]\n"
          ],
          "name": "stdout"
        }
      ]
    },
    {
      "cell_type": "code",
      "metadata": {
        "id": "8aS8FcRra4pY",
        "colab_type": "code",
        "outputId": "fc4fd76c-f2e7-484f-8724-f0ae090f2c52",
        "colab": {
          "base_uri": "https://localhost:8080/",
          "height": 51
        }
      },
      "source": [
        "x_data_train = x_data[train_index]\n",
        "y_data_train = y_data[train_index]\n",
        "\n",
        "print(len(x_data_train))\n",
        "print(len(y_data_train))"
      ],
      "execution_count": 0,
      "outputs": [
        {
          "output_type": "stream",
          "text": [
            "777\n",
            "777\n"
          ],
          "name": "stdout"
        }
      ]
    },
    {
      "cell_type": "code",
      "metadata": {
        "id": "F6HJd5UE4X7g",
        "colab_type": "code",
        "outputId": "881ec6b0-ff00-444e-d6bc-10aca4116726",
        "colab": {
          "base_uri": "https://localhost:8080/",
          "height": 51
        }
      },
      "source": [
        "x_data_test = x_data[~train_index]\n",
        "y_data_test = y_data[~train_index]\n",
        "\n",
        "print(len(x_data_test))\n",
        "print(len(y_data_test))"
      ],
      "execution_count": 0,
      "outputs": [
        {
          "output_type": "stream",
          "text": [
            "223\n",
            "223\n"
          ],
          "name": "stdout"
        }
      ]
    },
    {
      "cell_type": "code",
      "metadata": {
        "id": "Su18oeQd4X-B",
        "colab_type": "code",
        "colab": {}
      },
      "source": [
        "# 3º treinando o classificador\n",
        "from nltk import pos_tag\n",
        "from nltk.corpus import stopwords\n",
        "from nltk.stem import WordNetLemmatizer\n",
        "from nltk.tokenize import word_tokenize\n",
        "import string\n",
        "from nltk.corpus import wordnet\n",
        "\n",
        "stopwords_list = stopwords.words('english')\n",
        "\n",
        "lemmatizer = WordNetLemmatizer()\n",
        "\n",
        "\n",
        "def my_tokenizer(doc):\n",
        "    words = word_tokenize(doc)\n",
        "    \n",
        "    pos_tags = pos_tag(words)\n",
        "    \n",
        "    non_stopwords = [w for w in pos_tags if not w[0].lower() in stopwords_list]\n",
        "    \n",
        "    non_punctuation = [w for w in non_stopwords if not w[0] in string.punctuation]\n",
        "    \n",
        "    lemmas = []\n",
        "    for w in non_punctuation:\n",
        "        if w[1].startswith('J'):\n",
        "            pos = wordnet.ADJ\n",
        "        elif w[1].startswith('V'):\n",
        "            pos = wordnet.VERB\n",
        "        elif w[1].startswith('N'):\n",
        "            pos = wordnet.NOUN\n",
        "        elif w[1].startswith('R'):\n",
        "            pos = wordnet.ADV\n",
        "        else:\n",
        "            pos = wordnet.NOUN\n",
        "        \n",
        "        lemmas.append(lemmatizer.lemmatize(w[0], pos))\n",
        "\n",
        "    return lemmas\n",
        "\n",
        "\n"
      ],
      "execution_count": 0,
      "outputs": []
    },
    {
      "cell_type": "code",
      "metadata": {
        "id": "PmQY2-BG6ymx",
        "colab_type": "code",
        "colab": {}
      },
      "source": [
        "from sklearn.decomposition import TruncatedSVD\n",
        "\n",
        "class SVDDimSelect(object):\n",
        "    def fit(self, X, y=None):        \n",
        "        try:\n",
        "            self.svd_transformer = TruncatedSVD(n_components=round(X.shape[1]/2))\n",
        "            self.svd_transformer.fit(X)\n",
        "        \n",
        "            cummulative_variance = 0.0\n",
        "            k = 0\n",
        "            for var in sorted(self.svd_transformer.explained_variance_ratio_)[::-1]:\n",
        "                cummulative_variance += var\n",
        "                if cummulative_variance >= 0.5:\n",
        "                    break\n",
        "                else:\n",
        "                    k += 1\n",
        "                \n",
        "            self.svd_transformer = TruncatedSVD(n_components=k)\n",
        "        except Exception as ex:\n",
        "            print(ex)\n",
        "            \n",
        "        return self.svd_transformer.fit(X)\n",
        "    \n",
        "    def transform(self, X, Y=None):\n",
        "        return self.svd_transformer.transform(X)\n",
        "        \n",
        "    def get_params(self, deep=True):\n",
        "        return {}"
      ],
      "execution_count": 0,
      "outputs": []
    },
    {
      "cell_type": "code",
      "metadata": {
        "id": "MJTTPObb6ypX",
        "colab_type": "code",
        "colab": {}
      },
      "source": [
        "from sklearn.feature_extraction.text import TfidfVectorizer\n",
        "from sklearn.pipeline import Pipeline\n",
        "from sklearn import neighbors\n",
        "\n",
        "clf = neighbors.KNeighborsClassifier(n_neighbors=10, weights='uniform')\n",
        "\n",
        "my_pipeline = Pipeline([('tfidf', TfidfVectorizer(tokenizer=my_tokenizer)),\\\n",
        "                       ('svd', SVDDimSelect()), \\\n",
        "                       ('clf', clf)])"
      ],
      "execution_count": 0,
      "outputs": []
    },
    {
      "cell_type": "code",
      "metadata": {
        "id": "qb47tI6w6yr_",
        "colab_type": "code",
        "colab": {}
      },
      "source": [
        "from sklearn.model_selection import RandomizedSearchCV\n",
        "import scipy\n",
        "\n",
        "par = {'clf__n_neighbors': range(1, 60), 'clf__weights': ['uniform', 'distance']}\n",
        "\n",
        "\n",
        "hyperpar_selector = RandomizedSearchCV(my_pipeline, par, cv=3, scoring='accuracy', n_jobs=1, n_iter=20)"
      ],
      "execution_count": 0,
      "outputs": []
    },
    {
      "cell_type": "code",
      "metadata": {
        "id": "WtBkx0_d4YAq",
        "colab_type": "code",
        "colab": {}
      },
      "source": [
        "print(x_data_train)"
      ],
      "execution_count": 0,
      "outputs": []
    },
    {
      "cell_type": "code",
      "metadata": {
        "id": "ocOyiVfgvQ7T",
        "colab_type": "code",
        "outputId": "b3fd1d30-87f0-4377-e162-3d8ebadf9a0b",
        "colab": {
          "base_uri": "https://localhost:8080/",
          "height": 595
        }
      },
      "source": [
        "hyperpar_selector.fit(X=x_data_train, y=y_data_train)"
      ],
      "execution_count": 0,
      "outputs": [
        {
          "output_type": "execute_result",
          "data": {
            "text/plain": [
              "RandomizedSearchCV(cv=3, error_score='raise-deprecating',\n",
              "                   estimator=Pipeline(memory=None,\n",
              "                                      steps=[('tfidf',\n",
              "                                              TfidfVectorizer(analyzer='word',\n",
              "                                                              binary=False,\n",
              "                                                              decode_error='strict',\n",
              "                                                              dtype=<class 'numpy.float64'>,\n",
              "                                                              encoding='utf-8',\n",
              "                                                              input='content',\n",
              "                                                              lowercase=True,\n",
              "                                                              max_df=1.0,\n",
              "                                                              max_features=None,\n",
              "                                                              min_df=1,\n",
              "                                                              ngram_range=(1,\n",
              "                                                                           1),\n",
              "                                                              norm='l2',\n",
              "                                                              preprocessor=None,\n",
              "                                                              smooth_idf=True,\n",
              "                                                              sto...\n",
              "                                              KNeighborsClassifier(algorithm='auto',\n",
              "                                                                   leaf_size=30,\n",
              "                                                                   metric='minkowski',\n",
              "                                                                   metric_params=None,\n",
              "                                                                   n_jobs=None,\n",
              "                                                                   n_neighbors=10,\n",
              "                                                                   p=2,\n",
              "                                                                   weights='uniform'))],\n",
              "                                      verbose=False),\n",
              "                   iid='warn', n_iter=20, n_jobs=1,\n",
              "                   param_distributions={'clf__n_neighbors': range(1, 60),\n",
              "                                        'clf__weights': ['uniform',\n",
              "                                                         'distance']},\n",
              "                   pre_dispatch='2*n_jobs', random_state=None, refit=True,\n",
              "                   return_train_score=False, scoring='accuracy', verbose=0)"
            ]
          },
          "metadata": {
            "tags": []
          },
          "execution_count": 39
        }
      ]
    },
    {
      "cell_type": "code",
      "metadata": {
        "id": "ZgdaoeRivQ9t",
        "colab_type": "code",
        "outputId": "b4c8478f-b94f-4913-ce4f-c9af87781b6d",
        "colab": {
          "base_uri": "https://localhost:8080/",
          "height": 85
        }
      },
      "source": [
        "print(\"Best score: %0.3f\" % hyperpar_selector.best_score_)\n",
        "print(\"Best parameters set:\")\n",
        "best_parameters = hyperpar_selector.best_estimator_.get_params()\n",
        "for param_name in sorted(par.keys()):\n",
        "    print(\"\\t%s: %r\" % (param_name, best_parameters[param_name]))"
      ],
      "execution_count": 0,
      "outputs": [
        {
          "output_type": "stream",
          "text": [
            "Best score: 0.596\n",
            "Best parameters set:\n",
            "\tclf__n_neighbors: 5\n",
            "\tclf__weights: 'distance'\n"
          ],
          "name": "stdout"
        }
      ]
    },
    {
      "cell_type": "code",
      "metadata": {
        "id": "TM0IkK7fvgW7",
        "colab_type": "code",
        "outputId": "5287fdef-c3e1-4082-c4dc-e77b6aaf56e8",
        "colab": {
          "base_uri": "https://localhost:8080/",
          "height": 34
        }
      },
      "source": [
        "# 4º Testando o Classificador\n",
        "from sklearn.metrics import *\n",
        "\n",
        "y_pred = hyperpar_selector.predict(x_data_test)\n",
        "\n",
        "print(accuracy_score(y_data_test, y_pred))"
      ],
      "execution_count": 0,
      "outputs": [
        {
          "output_type": "stream",
          "text": [
            "0.7130044843049327\n"
          ],
          "name": "stdout"
        }
      ]
    },
    {
      "cell_type": "code",
      "metadata": {
        "id": "njHeBtTIvgZa",
        "colab_type": "code",
        "colab": {}
      },
      "source": [
        "# 5º Serializando o modelo\n",
        "import pickle\n",
        "\n",
        "string_obj = pickle.dumps(hyperpar_selector)"
      ],
      "execution_count": 0,
      "outputs": []
    },
    {
      "cell_type": "code",
      "metadata": {
        "id": "WkXfIOqfFlDt",
        "colab_type": "code",
        "colab": {}
      },
      "source": [
        "model_file = open('model.pkl', 'wb')\n",
        "\n",
        "model_file.write(string_obj)\n",
        "\n",
        "model_file.close()"
      ],
      "execution_count": 0,
      "outputs": []
    },
    {
      "cell_type": "code",
      "metadata": {
        "id": "feqCNAktFlGk",
        "colab_type": "code",
        "outputId": "c483e213-7cbf-43fa-c006-3c4320d6afdb",
        "colab": {
          "base_uri": "https://localhost:8080/",
          "height": 34
        }
      },
      "source": [
        "model_file = open('model.pkl', 'rb')\n",
        "model_content = model_file.read()\n",
        "\n",
        "obj_classifier = pickle.loads(model_content)\n",
        "\n",
        "model_file.close()\n",
        "\n",
        "res = obj_classifier.predict([\"what's up bro?\"])\n",
        "\n",
        "print(res)"
      ],
      "execution_count": 0,
      "outputs": [
        {
          "output_type": "stream",
          "text": [
            "[0]\n"
          ],
          "name": "stdout"
        }
      ]
    },
    {
      "cell_type": "code",
      "metadata": {
        "id": "hu9wwLnNFlJE",
        "colab_type": "code",
        "outputId": "1bbbad58-8bd5-48b7-f79f-33c52957d96b",
        "colab": {
          "base_uri": "https://localhost:8080/",
          "height": 34
        }
      },
      "source": [
        "res = obj_classifier.predict(x_data_test)\n",
        "print(accuracy_score(y_data_test, res))"
      ],
      "execution_count": 0,
      "outputs": [
        {
          "output_type": "stream",
          "text": [
            "0.7130044843049327\n"
          ],
          "name": "stdout"
        }
      ]
    },
    {
      "cell_type": "code",
      "metadata": {
        "id": "fG94AdaOFyPl",
        "colab_type": "code",
        "outputId": "cc416093-5da7-43ca-f315-67d2d49f826b",
        "colab": {
          "base_uri": "https://localhost:8080/",
          "height": 136
        }
      },
      "source": [
        "res = obj_classifier.predict(x_data_test)\n",
        "\n",
        "print(res)"
      ],
      "execution_count": 0,
      "outputs": [
        {
          "output_type": "stream",
          "text": [
            "[1 0 0 1 0 0 0 0 0 0 0 0 0 0 0 0 0 0 0 0 0 1 0 0 0 0 0 0 0 0 0 0 0 0 0 0 0\n",
            " 0 0 0 0 0 0 0 0 0 0 0 0 0 0 0 0 0 0 0 0 0 0 0 0 0 0 0 0 0 0 0 0 0 0 0 0 0\n",
            " 0 0 0 1 0 0 0 0 0 0 0 0 0 0 0 0 0 0 0 0 0 0 0 0 0 0 0 0 0 0 0 0 0 0 0 0 0\n",
            " 0 0 0 0 0 0 1 0 0 0 0 0 1 1 0 0 0 0 0 1 1 1 0 1 0 0 0 0 1 1 1 0 1 1 1 0 1\n",
            " 0 1 1 1 0 0 0 1 0 0 1 0 0 0 0 1 1 0 0 0 1 0 0 0 0 1 0 0 1 1 1 0 1 0 1 0 0\n",
            " 0 0 0 1 1 1 0 0 1 0 0 1 0 1 1 0 1 1 0 0 1 0 1 0 0 0 1 1 1 0 1 1 0 1 1 0 0\n",
            " 0]\n"
          ],
          "name": "stdout"
        }
      ]
    },
    {
      "cell_type": "code",
      "metadata": {
        "id": "ZGZhVgiWFyRz",
        "colab_type": "code",
        "colab": {}
      },
      "source": [
        "formal = [x_data_test[i] for i in range(len(res)) if res[i] == 1]\n",
        "\n",
        "for txt in formal:\n",
        "    print(\"%s\\n\" % txt)"
      ],
      "execution_count": 0,
      "outputs": []
    },
    {
      "cell_type": "code",
      "metadata": {
        "id": "ORrAyK9rFlLW",
        "colab_type": "code",
        "colab": {}
      },
      "source": [
        "informal = [x_data_test[i] for i in range(len(res)) if res[i] == 0]\n",
        "\n",
        "for txt in informal:\n",
        "    print(\"%s\\n\" % txt)"
      ],
      "execution_count": 0,
      "outputs": []
    },
    {
      "cell_type": "code",
      "metadata": {
        "id": "Nz3KewjXF5VN",
        "colab_type": "code",
        "outputId": "04b62a87-b985-4226-ea28-b60a2f0ce115",
        "colab": {
          "base_uri": "https://localhost:8080/",
          "height": 34
        }
      },
      "source": [
        "res2 = obj_classifier.predict([\"Emma spared no exertions to maintain this happier flow of ideas , and hoped , by the help of backgammon , to get her father tolerably through the evening , and be attacked by no regrets but her own\"])\n",
        "\n",
        "print(res2)"
      ],
      "execution_count": 0,
      "outputs": [
        {
          "output_type": "stream",
          "text": [
            "[1]\n"
          ],
          "name": "stdout"
        }
      ]
    },
    {
      "cell_type": "code",
      "metadata": {
        "id": "rTv6uNHqF_VF",
        "colab_type": "code",
        "colab": {}
      },
      "source": [
        ""
      ],
      "execution_count": 0,
      "outputs": []
    },
    {
      "cell_type": "code",
      "metadata": {
        "id": "b2zZlKQrF_Xk",
        "colab_type": "code",
        "colab": {}
      },
      "source": [
        ""
      ],
      "execution_count": 0,
      "outputs": []
    },
    {
      "cell_type": "code",
      "metadata": {
        "id": "2dszb6sQF_aP",
        "colab_type": "code",
        "colab": {}
      },
      "source": [
        ""
      ],
      "execution_count": 0,
      "outputs": []
    }
  ]
}