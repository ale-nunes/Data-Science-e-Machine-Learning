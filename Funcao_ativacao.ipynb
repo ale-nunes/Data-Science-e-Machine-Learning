{
  "nbformat": 4,
  "nbformat_minor": 0,
  "metadata": {
    "colab": {
      "name": "Funcao_ativacao.ipynb",
      "provenance": [],
      "include_colab_link": true
    },
    "kernelspec": {
      "name": "python3",
      "display_name": "Python 3"
    }
  },
  "cells": [
    {
      "cell_type": "markdown",
      "metadata": {
        "id": "view-in-github",
        "colab_type": "text"
      },
      "source": [
        "<a href=\"https://colab.research.google.com/github/ale-nunes/Data-Science-e-Machine-Learning/blob/master/Funcao_ativacao.ipynb\" target=\"_parent\"><img src=\"https://colab.research.google.com/assets/colab-badge.svg\" alt=\"Open In Colab\"/></a>"
      ]
    },
    {
      "cell_type": "code",
      "metadata": {
        "id": "_pVRZOsV1o16",
        "colab_type": "code",
        "colab": {}
      },
      "source": [
        "import numpy as np\n"
      ],
      "execution_count": 0,
      "outputs": []
    },
    {
      "cell_type": "code",
      "metadata": {
        "id": "0RUetstw1sr3",
        "colab_type": "code",
        "colab": {}
      },
      "source": [
        "#todos com parâmetro \"soma\" recebe \"um\" valor\n",
        "#binário\n",
        "def stepFunction(soma):\n",
        "  if(soma >= 1):\n",
        "    return 1\n",
        "  return 0\n"
      ],
      "execution_count": 0,
      "outputs": []
    },
    {
      "cell_type": "code",
      "metadata": {
        "id": "yk-44hvo1suf",
        "colab_type": "code",
        "outputId": "62ac1347-ba85-4e52-d2ef-925cf61b435e",
        "colab": {
          "base_uri": "https://localhost:8080/",
          "height": 34
        }
      },
      "source": [
        "teste = stepFunction(0.7)\n",
        "teste"
      ],
      "execution_count": 0,
      "outputs": [
        {
          "output_type": "execute_result",
          "data": {
            "text/plain": [
              "0"
            ]
          },
          "metadata": {
            "tags": []
          },
          "execution_count": 6
        }
      ]
    },
    {
      "cell_type": "code",
      "metadata": {
        "id": "kppW07Jl1sxF",
        "colab_type": "code",
        "colab": {}
      },
      "source": [
        "#binário\n",
        "def sigmoidFunction(soma):\n",
        "  return 1/(1 + np.exp(-soma))"
      ],
      "execution_count": 0,
      "outputs": []
    },
    {
      "cell_type": "code",
      "metadata": {
        "id": "pG-yHrGE1szt",
        "colab_type": "code",
        "outputId": "df18e3e8-f5cc-4888-fb89-d96887620bf8",
        "colab": {
          "base_uri": "https://localhost:8080/",
          "height": 34
        }
      },
      "source": [
        "teste2 = sigmoidFunction(2.1)\n",
        "teste2"
      ],
      "execution_count": 0,
      "outputs": [
        {
          "output_type": "execute_result",
          "data": {
            "text/plain": [
              "0.5885562043858291"
            ]
          },
          "metadata": {
            "tags": []
          },
          "execution_count": 29
        }
      ]
    },
    {
      "cell_type": "code",
      "metadata": {
        "id": "JIu8eedK1s2N",
        "colab_type": "code",
        "colab": {}
      },
      "source": [
        "def tahnFunction(soma):\n",
        "  return (np.exp(soma) - np.exp(-soma)) / (np.exp(soma) + np.exp(-soma))"
      ],
      "execution_count": 0,
      "outputs": []
    },
    {
      "cell_type": "code",
      "metadata": {
        "id": "6jqiIRlA1s42",
        "colab_type": "code",
        "outputId": "a8b981ae-2898-4f36-a03f-e2fcf43d0b36",
        "colab": {
          "base_uri": "https://localhost:8080/",
          "height": 34
        }
      },
      "source": [
        "teste3 = tahnFunction(0.358)\n",
        "teste3"
      ],
      "execution_count": 0,
      "outputs": [
        {
          "output_type": "execute_result",
          "data": {
            "text/plain": [
              "0.3434511648102781"
            ]
          },
          "metadata": {
            "tags": []
          },
          "execution_count": 23
        }
      ]
    },
    {
      "cell_type": "code",
      "metadata": {
        "id": "FrshzhSR1s6-",
        "colab_type": "code",
        "colab": {}
      },
      "source": [
        "#mais utilizado\n",
        "def reluFuntion(soma):\n",
        "  if soma >= 0:\n",
        "    return soma\n",
        "  return 0"
      ],
      "execution_count": 0,
      "outputs": []
    },
    {
      "cell_type": "code",
      "metadata": {
        "id": "T2FkRaPL7TC_",
        "colab_type": "code",
        "outputId": "b23d6a2e-8cc6-4bc9-ef66-39e6af61807a",
        "colab": {
          "base_uri": "https://localhost:8080/",
          "height": 34
        }
      },
      "source": [
        "teste4 = reluFuntion(-12)\n",
        "teste4"
      ],
      "execution_count": 0,
      "outputs": [
        {
          "output_type": "execute_result",
          "data": {
            "text/plain": [
              "0"
            ]
          },
          "metadata": {
            "tags": []
          },
          "execution_count": 31
        }
      ]
    },
    {
      "cell_type": "code",
      "metadata": {
        "id": "3Sfr0ooN7TFf",
        "colab_type": "code",
        "colab": {}
      },
      "source": [
        "#problemas de regressão linear, previsão de um valor \n",
        "def linearFunction(soma):\n",
        "  return soma"
      ],
      "execution_count": 0,
      "outputs": []
    },
    {
      "cell_type": "code",
      "metadata": {
        "id": "tB2xz1Oc7TIF",
        "colab_type": "code",
        "outputId": "24a0be61-ca07-401f-9919-41a816cacdbe",
        "colab": {
          "base_uri": "https://localhost:8080/",
          "height": 34
        }
      },
      "source": [
        "teste5 = linearFunction(20)\n",
        "teste5"
      ],
      "execution_count": 0,
      "outputs": [
        {
          "output_type": "execute_result",
          "data": {
            "text/plain": [
              "20"
            ]
          },
          "metadata": {
            "tags": []
          },
          "execution_count": 35
        }
      ]
    },
    {
      "cell_type": "code",
      "metadata": {
        "id": "kKUwN-Dw7TKO",
        "colab_type": "code",
        "colab": {}
      },
      "source": [
        "#função softmax retorna a probabilidade de ocorrer o evento (problemas com mais de 2 classes)\n",
        "\n",
        "def softmaxFunction(x): #recebe um vetor de valores\n",
        "  #exponencial\n",
        "  ex = np.exp(x)\n",
        "  #função softmax\n",
        "  return ex / ex.sum()"
      ],
      "execution_count": 0,
      "outputs": []
    },
    {
      "cell_type": "code",
      "metadata": {
        "id": "_CcdcuTN82bd",
        "colab_type": "code",
        "outputId": "50904715-7440-4b64-a8c4-3618eb311634",
        "colab": {
          "base_uri": "https://localhost:8080/",
          "height": 34
        }
      },
      "source": [
        "valores = [2, 3.5, 5, 2.5, 8]\n",
        "#retorno das probabilidades\n",
        "print(softmaxFunction(valores))"
      ],
      "execution_count": 0,
      "outputs": [
        {
          "output_type": "stream",
          "text": [
            "[0.0023221  0.01040693 0.04664062 0.0038285  0.93680186]\n"
          ],
          "name": "stdout"
        }
      ]
    }
  ]
}